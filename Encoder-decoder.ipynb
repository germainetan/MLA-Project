{
 "cells": [
  {
   "cell_type": "markdown",
   "metadata": {},
   "source": [
    "# Retrieving ground truth for equation images"
   ]
  },
  {
   "cell_type": "code",
   "execution_count": 2,
   "metadata": {},
   "outputs": [],
   "source": [
    "import pandas as pd\n",
    "gt_2013 = pd.read_csv('groundtruth_2013.tsv', sep='\\t', names=['path', 'gt'])\n",
    "gt_2014 = pd.read_csv('groundtruth_2014.tsv', sep='\\t', names=['path', 'gt'])\n",
    "gt_2016 = pd.read_csv('groundtruth_2016.tsv', sep='\\t', names=['path', 'gt'])"
   ]
  },
  {
   "cell_type": "code",
   "execution_count": 4,
   "metadata": {},
   "outputs": [],
   "source": [
    "combined_df = pd.concat([gt_2013, gt_2014, gt_2016], ignore_index=True)"
   ]
  },
  {
   "cell_type": "code",
   "execution_count": 5,
   "metadata": {},
   "outputs": [
    {
     "name": "stdout",
     "output_type": "stream",
     "text": [
      "['120_em_300', '127_em_508', 'ritm_422_0', 'rit_420_3', 'rit_42100_2', 'rit_42100_3', 'rit_4210_4', 'rit_42110_2', 'rit_42130_0', 'rit_42150_0', 'rit_4215_3', 'rit_42160_2', 'rit_42190_3', 'rit_42190_4', 'rit_4220_1', 'rit_4220_3', 'rit_4225_2', 'rit_4225_3', 'rit_4225_4', 'rit_4230_0', 'rit_4230_2', 'rit_4230_3', 'rit_4235_0', 'rit_4235_2', 'rit_4235_3', 'rit_4235_4', 'rit_4240_0', 'rit_4240_3', 'rit_4240_4', 'rit_4245_2', 'rit_4245_3', 'rit_4250_2', 'rit_4250_3', 'rit_4260_1', 'rit_4260_4', 'rit_4265_0', 'rit_4275_2', 'rit_4280_0', 'rit_4280_2', 'rit_4290_4', 'rit_4295_0', 'rit_4295_1', '18_em_1', '18_em_10', '18_em_13', '18_em_21', '18_em_23', '18_em_24', '20_em_26', '20_em_41', '20_em_42', '20_em_43', '20_em_47', '23_em_53', '23_em_55', '23_em_56', '23_em_57', '23_em_60', '26_em_78', '26_em_93', '26_em_96', '26_em_97', '27_em_100', '27_em_110', '27_em_118', '27_em_119', '27_em_120', '28_em_125', '28_em_133', '28_em_142', '28_em_146', '29_em_159', '31_em_187', '31_em_195', '31_em_196', '32_em_217', '34_em_227', '35_em_0', '35_em_15', '35_em_19', '35_em_20', '35_em_6', '36_em_28', '36_em_31', '36_em_34', '36_em_39', '37_em_16', '37_em_19', '37_em_5', '501_em_1', '501_em_15', '501_em_5', '502_em_0', '502_em_18', '502_em_2', '502_em_23', '504_em_36', '504_em_39', '504_em_44', '505_em_47', '505_em_49', '506_em_57', '507_em_76', '507_em_77', '508_em_86', '509_em_90', '510_em_101', '510_em_105', '511_em_251', '511_em_254', '512_em_278', '512_em_284', '512_em_287', '512_em_289', '512_em_298', '513_em_310', '513_em_311', '514_em_335', '515_em_351', '515_em_354', '516_em_376', '516_em_380', '516_em_399', '517_em_405', '517_em_409', '517_em_413', '518_em_420', '518_em_427', '518_em_428', '518_em_430', '518_em_438', '519_em_440', '519_em_447', '519_em_448', 'RIT_2014_108', 'RIT_2014_120', 'RIT_2014_122', 'RIT_2014_130', 'RIT_2014_131', 'RIT_2014_138', 'RIT_2014_152', 'RIT_2014_156', 'RIT_2014_189', 'RIT_2014_204', 'RIT_2014_210', 'RIT_2014_231', 'RIT_2014_234', 'RIT_2014_239', 'RIT_2014_246', 'RIT_2014_247', 'RIT_2014_248', 'RIT_2014_251', 'RIT_2014_254', 'RIT_2014_257', 'RIT_2014_258', 'RIT_2014_272', 'RIT_2014_273', 'RIT_2014_279', 'RIT_2014_28', 'RIT_2014_280', 'RIT_2014_284', 'RIT_2014_29', 'RIT_2014_299', 'RIT_2014_302', 'RIT_2014_307', 'RIT_2014_39', 'RIT_2014_41', 'RIT_2014_57', 'RIT_2014_70', 'RIT_2014_85', 'RIT_2014_88', 'RIT_2014_95', 'RIT_2014_97', 'RIT_2014_99', 'UN_101_em_10', 'UN_101_em_5', 'UN_103_em_73', 'UN_104_em_75', 'UN_104_em_82', 'UN_105_em_109', 'UN_105_em_112', 'UN_105_em_119', 'UN_107_em_157', 'UN_107_em_169', 'UN_107_em_174', 'UN_108_em_181', 'UN_108_em_193', 'UN_108_em_199', 'UN_109_em_209', 'UN_109_em_224', 'UN_110_em_227', 'UN_110_em_229', 'UN_110_em_235', 'UN_111_em_259', 'UN_112_em_273', 'UN_112_em_282', 'UN_112_em_283', 'UN_113_em_285', 'UN_113_em_287', 'UN_114_em_299', 'UN_114_em_304', 'UN_115_em_316', 'UN_117_em_346', 'UN_117_em_352', 'UN_117_em_353', 'UN_117_em_357', 'UN_118_em_385', 'UN_119_em_395', 'UN_119_em_400', 'UN_119_em_402', 'UN_119_em_409', 'UN_119_em_413', 'UN_120_em_426', 'UN_120_em_428', 'UN_121_em_467', 'UN_122_em_492', 'UN_123_em_495', 'UN_123_em_500', 'UN_123_em_507', 'UN_123_em_509', 'UN_124_em_542', 'UN_125_em_555', 'UN_125_em_557', 'UN_125_em_558', 'UN_125_em_559', 'UN_125_em_564', 'UN_125_em_567', 'UN_127_em_590', 'UN_127_em_597', 'UN_128_em_1003', 'UN_128_em_1013', 'UN_128_em_1016', 'UN_129_em_1044', 'UN_130_em_1071', 'UN_131_em_1080', 'UN_131_em_1082', 'UN_131_em_1084', 'UN_131_em_1085', 'UN_131_em_1086', 'UN_131_em_1099', 'UN_133_em_1116', 'UN_133_em_1117', 'UN_133_em_1125', 'UN_133_em_1130', 'UN_134_em_1145', 'UN_134_em_1146', 'UN_451_em_603', 'UN_451_em_613', 'UN_451_em_618', 'UN_451_em_620', 'UN_452_em_628', 'UN_452_em_641', 'UN_452_em_645', 'UN_453_em_650', 'UN_453_em_665', 'UN_453_em_666', 'UN_453_em_671', 'UN_454_em_697', 'UN_455_em_707', 'UN_456_em_733', 'UN_456_em_734', 'UN_456_em_736', 'UN_456_em_738', 'UN_456_em_741', 'UN_457_em_756', 'UN_457_em_766', 'UN_458_em_784', 'UN_458_em_788', 'UN_458_em_796', 'UN_459_em_800', 'UN_459_em_802', 'UN_459_em_818', 'UN_460_em_830', 'UN_460_em_831', 'UN_460_em_836', 'UN_460_em_837', 'UN_460_em_840', 'UN_460_em_847', 'UN_461_em_858', 'UN_461_em_859', 'UN_461_em_866', 'UN_462_em_883', 'UN_462_em_889', 'UN_463_em_915', 'UN_463_em_922', 'UN_464_em_929', 'UN_464_em_944', 'UN_464_em_945', 'UN_464_em_947', 'UN_465_em_969', 'UN_465_em_972', 'UN_466_em_983', 'UN_466_em_984', 'UN_466_em_985', 'UN_466_em_999']\n"
     ]
    }
   ],
   "source": [
    "import os\n",
    "import glob\n",
    "\n",
    "class_directories = [\"equation_dataset\"]\n",
    "\n",
    "image_extensions = ['.jpg', '.png', '.jpeg']\n",
    "image_file_names = []\n",
    "\n",
    "for directory in class_directories:\n",
    "    for ext in image_extensions:\n",
    "        image_files = glob.glob(os.path.join(directory, f\"*{ext}\"))\n",
    "        image_file_names.extend([os.path.splitext(os.path.basename(file))[0] for file in image_files])\n",
    "\n",
    "# print(image_file_names)"
   ]
  },
  {
   "cell_type": "code",
   "execution_count": 8,
   "metadata": {},
   "outputs": [],
   "source": [
    "import numpy as np\n",
    "\n",
    "def testing(path, image_file_names):\n",
    "    if path in image_file_names:\n",
    "        return path\n",
    "\n",
    "    return np.nan\n",
    "\n",
    "combined_df[\"path\"] = combined_df[\"path\"].apply(testing, args=(image_file_names))\n",
    "\n",
    "filtered_df = combined_df.dropna()"
   ]
  },
  {
   "cell_type": "code",
   "execution_count": 51,
   "metadata": {},
   "outputs": [],
   "source": [
    "filtered_df.to_csv(\"./ground_truth_csv/filtered_v2.csv\", index=False)"
   ]
  }
 ],
 "metadata": {
  "kernelspec": {
   "display_name": "Python 3",
   "language": "python",
   "name": "python3"
  },
  "language_info": {
   "codemirror_mode": {
    "name": "ipython",
    "version": 3
   },
   "file_extension": ".py",
   "mimetype": "text/x-python",
   "name": "python",
   "nbconvert_exporter": "python",
   "pygments_lexer": "ipython3",
   "version": "3.11.5"
  }
 },
 "nbformat": 4,
 "nbformat_minor": 2
}
