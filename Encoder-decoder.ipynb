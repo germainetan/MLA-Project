{
 "cells": [
  {
   "cell_type": "markdown",
   "metadata": {},
   "source": [
    "# Retrieving ground truth for equation images"
   ]
  },
  {
   "cell_type": "code",
   "execution_count": 1,
   "metadata": {},
   "outputs": [],
   "source": [
    "import pandas as pd\n",
    "gt_2013 = pd.read_csv('./gt_tsv/groundtruth_2013.tsv', sep='\\t', names=['path', 'gt'])\n",
    "gt_2014 = pd.read_csv('./gt_tsv/groundtruth_2014.tsv', sep='\\t', names=['path', 'gt'])\n",
    "gt_2016 = pd.read_csv('./gt_tsv/groundtruth_2016.tsv', sep='\\t', names=['path', 'gt'])"
   ]
  },
  {
   "cell_type": "code",
   "execution_count": 2,
   "metadata": {},
   "outputs": [],
   "source": [
    "combined_df = pd.concat([gt_2013, gt_2014, gt_2016], ignore_index=True)"
   ]
  },
  {
   "cell_type": "code",
   "execution_count": 5,
   "metadata": {},
   "outputs": [
    {
     "name": "stdout",
     "output_type": "stream",
     "text": [
      "['120_em_300', '127_em_508', '18_em_10', '18_em_21', '20_em_42', '20_em_47', '23_em_56', '26_em_78', '26_em_93', '27_em_110', '27_em_119', '29_em_159', '31_em_187', '31_em_195', '34_em_227', '35_em_0', '35_em_15', '35_em_19', '35_em_6', '36_em_28', '502_em_0', '502_em_2', '502_em_23', '504_em_44', '505_em_47', '507_em_76', '511_em_254', '512_em_280', '512_em_284', '513_em_310', '515_em_351', '516_em_376', '518_em_428', 'ritm_422_0', 'RIT_2014_122', 'RIT_2014_130', 'RIT_2014_156', 'RIT_2014_204', 'RIT_2014_246', 'RIT_2014_272', 'RIT_2014_284', 'RIT_2014_29', 'RIT_2014_299', 'RIT_2014_57', 'RIT_2014_70', 'RIT_2014_95', 'RIT_2014_97', 'rit_420_3', 'rit_42150_0', 'rit_4220_1', 'rit_4225_4', 'rit_4240_0', 'rit_4265_0', 'rit_4295_0', 'UN_101_em_5', 'UN_105_em_109', 'UN_110_em_227', 'UN_110_em_229', 'UN_111_em_259', 'UN_112_em_282', 'UN_112_em_283', 'UN_114_em_304', 'UN_115_em_316', 'UN_117_em_346', 'UN_117_em_352', 'UN_117_em_357', 'UN_118_em_385', 'UN_119_em_400', 'UN_120_em_428', 'UN_121_em_467', 'UN_123_em_507', 'UN_125_em_558', 'UN_125_em_559', 'UN_125_em_564', 'UN_127_em_597', 'UN_128_em_1003', 'UN_128_em_1016', 'UN_131_em_1080', 'UN_133_em_1117', 'UN_133_em_1130', 'UN_134_em_1146', 'UN_451_em_620', 'UN_453_em_650', 'UN_453_em_666', 'UN_454_em_697', 'UN_456_em_733', 'UN_456_em_734', 'UN_456_em_738', 'UN_456_em_741', 'UN_457_em_766', 'UN_458_em_784', 'UN_458_em_796', 'UN_460_em_831', 'UN_460_em_836', 'UN_460_em_847', 'UN_461_em_858', 'UN_461_em_866', 'UN_463_em_915', 'UN_464_em_929', 'UN_464_em_947', 'UN_465_em_969', 'UN_466_em_985']\n"
     ]
    }
   ],
   "source": [
    "import os\n",
    "import glob\n",
    "\n",
    "class_directories = [\"equation_dataset\"]\n",
    "\n",
    "image_extensions = ['.jpg', '.png', '.jpeg']\n",
    "image_file_names = []\n",
    "\n",
    "for directory in class_directories:\n",
    "    for ext in image_extensions:\n",
    "        image_files = glob.glob(os.path.join(directory, f\"*{ext}\"))\n",
    "        image_file_names.extend([os.path.splitext(os.path.basename(file))[0] for file in image_files])\n",
    "\n",
    "print(image_file_names)"
   ]
  },
  {
   "cell_type": "code",
   "execution_count": 6,
   "metadata": {},
   "outputs": [
    {
     "name": "stdout",
     "output_type": "stream",
     "text": [
      "102\n"
     ]
    }
   ],
   "source": [
    "print(len(image_file_names))"
   ]
  },
  {
   "cell_type": "code",
   "execution_count": 7,
   "metadata": {},
   "outputs": [
    {
     "data": {
      "text/html": [
       "<div>\n",
       "<style scoped>\n",
       "    .dataframe tbody tr th:only-of-type {\n",
       "        vertical-align: middle;\n",
       "    }\n",
       "\n",
       "    .dataframe tbody tr th {\n",
       "        vertical-align: top;\n",
       "    }\n",
       "\n",
       "    .dataframe thead th {\n",
       "        text-align: right;\n",
       "    }\n",
       "</style>\n",
       "<table border=\"1\" class=\"dataframe\">\n",
       "  <thead>\n",
       "    <tr style=\"text-align: right;\">\n",
       "      <th></th>\n",
       "      <th>path</th>\n",
       "      <th>gt</th>\n",
       "    </tr>\n",
       "  </thead>\n",
       "  <tbody>\n",
       "    <tr>\n",
       "      <th>0</th>\n",
       "      <td>120_em_292</td>\n",
       "      <td>(y-y^{calc})</td>\n",
       "    </tr>\n",
       "    <tr>\n",
       "      <th>1</th>\n",
       "      <td>118_em_221</td>\n",
       "      <td>2sp_{z}</td>\n",
       "    </tr>\n",
       "    <tr>\n",
       "      <th>2</th>\n",
       "      <td>rit_4235_3</td>\n",
       "      <td>\\frac {5} {6}</td>\n",
       "    </tr>\n",
       "    <tr>\n",
       "      <th>3</th>\n",
       "      <td>rit_42160_3</td>\n",
       "      <td>\\frac {2} {\\frac {1} {x} + \\frac {1} {y}}</td>\n",
       "    </tr>\n",
       "    <tr>\n",
       "      <th>4</th>\n",
       "      <td>116_em_162</td>\n",
       "      <td>L(w)=\\frac{m}{2}||w||^2-V(r)</td>\n",
       "    </tr>\n",
       "    <tr>\n",
       "      <th>...</th>\n",
       "      <td>...</td>\n",
       "      <td>...</td>\n",
       "    </tr>\n",
       "    <tr>\n",
       "      <th>2799</th>\n",
       "      <td>UN_127_em_593</td>\n",
       "      <td>\\lim_{r\\rightarrow \\infty} f(r) = 0</td>\n",
       "    </tr>\n",
       "    <tr>\n",
       "      <th>2800</th>\n",
       "      <td>UN_127_em_597</td>\n",
       "      <td>9\\mbox{x}9</td>\n",
       "    </tr>\n",
       "    <tr>\n",
       "      <th>2801</th>\n",
       "      <td>UN_464_em_928</td>\n",
       "      <td>\\frac{T}{L} \\log \\frac{T}{L}</td>\n",
       "    </tr>\n",
       "    <tr>\n",
       "      <th>2802</th>\n",
       "      <td>UN_116_em_335</td>\n",
       "      <td>\\frac 1x</td>\n",
       "    </tr>\n",
       "    <tr>\n",
       "      <th>2803</th>\n",
       "      <td>UN_459_em_806</td>\n",
       "      <td>X^7+iX^8</td>\n",
       "    </tr>\n",
       "  </tbody>\n",
       "</table>\n",
       "<p>2804 rows × 2 columns</p>\n",
       "</div>"
      ],
      "text/plain": [
       "               path                                           gt\n",
       "0        120_em_292                                 (y-y^{calc})\n",
       "1        118_em_221                                      2sp_{z}\n",
       "2        rit_4235_3                               \\frac {5} {6} \n",
       "3       rit_42160_3   \\frac {2} {\\frac {1} {x} + \\frac {1} {y}} \n",
       "4        116_em_162                 L(w)=\\frac{m}{2}||w||^2-V(r)\n",
       "...             ...                                          ...\n",
       "2799  UN_127_em_593          \\lim_{r\\rightarrow \\infty} f(r) = 0\n",
       "2800  UN_127_em_597                                   9\\mbox{x}9\n",
       "2801  UN_464_em_928                 \\frac{T}{L} \\log \\frac{T}{L}\n",
       "2802  UN_116_em_335                                     \\frac 1x\n",
       "2803  UN_459_em_806                                     X^7+iX^8\n",
       "\n",
       "[2804 rows x 2 columns]"
      ]
     },
     "execution_count": 7,
     "metadata": {},
     "output_type": "execute_result"
    }
   ],
   "source": [
    "combined_df"
   ]
  },
  {
   "cell_type": "code",
   "execution_count": 9,
   "metadata": {},
   "outputs": [],
   "source": [
    "import numpy as np\n",
    "\n",
    "def testing(path, image_file_names):\n",
    "    if path in image_file_names:\n",
    "        return path\n",
    "\n",
    "    return np.nan\n",
    "\n",
    "combined_df[\"path\"] = combined_df[\"path\"].apply(testing, args=(image_file_names,))\n",
    "\n",
    "filtered_df = combined_df.dropna()"
   ]
  },
  {
   "cell_type": "code",
   "execution_count": 15,
   "metadata": {},
   "outputs": [],
   "source": [
    "filtered_df.to_csv(\"./ground_truth_csv/final_gt.csv\", index=False)"
   ]
  }
 ],
 "metadata": {
  "kernelspec": {
   "display_name": "Python 3",
   "language": "python",
   "name": "python3"
  },
  "language_info": {
   "codemirror_mode": {
    "name": "ipython",
    "version": 3
   },
   "file_extension": ".py",
   "mimetype": "text/x-python",
   "name": "python",
   "nbconvert_exporter": "python",
   "pygments_lexer": "ipython3",
   "version": "3.11.5"
  }
 },
 "nbformat": 4,
 "nbformat_minor": 2
}
