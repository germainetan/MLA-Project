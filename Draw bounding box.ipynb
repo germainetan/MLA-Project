{
 "cells": [
  {
   "cell_type": "code",
   "execution_count": 1,
   "metadata": {},
   "outputs": [
    {
<<<<<<< HEAD
     "ename": "error",
     "evalue": "OpenCV(4.8.1) D:\\a\\opencv-python\\opencv-python\\opencv\\modules\\highgui\\src\\window.cpp:971: error: (-215:Assertion failed) size.width>0 && size.height>0 in function 'cv::imshow'\n",
     "output_type": "error",
     "traceback": [
      "\u001b[1;31m---------------------------------------------------------------------------\u001b[0m",
      "\u001b[1;31merror\u001b[0m                                     Traceback (most recent call last)",
      "\u001b[1;32m<ipython-input-1-ff40549ebf1f>\u001b[0m in \u001b[0;36m<module>\u001b[1;34m\u001b[0m\n\u001b[0;32m     12\u001b[0m \u001b[1;31m# Using cv2.imshow() method\u001b[0m\u001b[1;33m\u001b[0m\u001b[1;33m\u001b[0m\u001b[1;33m\u001b[0m\u001b[0m\n\u001b[0;32m     13\u001b[0m \u001b[1;31m# Displaying the image\u001b[0m\u001b[1;33m\u001b[0m\u001b[1;33m\u001b[0m\u001b[1;33m\u001b[0m\u001b[0m\n\u001b[1;32m---> 14\u001b[1;33m \u001b[0mcv2\u001b[0m\u001b[1;33m.\u001b[0m\u001b[0mimshow\u001b[0m\u001b[1;33m(\u001b[0m\u001b[0mwindow_name\u001b[0m\u001b[1;33m,\u001b[0m \u001b[0mimage\u001b[0m\u001b[1;33m)\u001b[0m\u001b[1;33m\u001b[0m\u001b[1;33m\u001b[0m\u001b[0m\n\u001b[0m\u001b[0;32m     15\u001b[0m \u001b[1;33m\u001b[0m\u001b[0m\n\u001b[0;32m     16\u001b[0m \u001b[1;31m# waits for user to press any key\u001b[0m\u001b[1;33m\u001b[0m\u001b[1;33m\u001b[0m\u001b[1;33m\u001b[0m\u001b[0m\n",
      "\u001b[1;31merror\u001b[0m: OpenCV(4.8.1) D:\\a\\opencv-python\\opencv-python\\opencv\\modules\\highgui\\src\\window.cpp:971: error: (-215:Assertion failed) size.width>0 && size.height>0 in function 'cv::imshow'\n"
=======
     "ename": "KeyboardInterrupt",
     "evalue": "",
     "output_type": "error",
     "traceback": [
      "\u001b[1;31m---------------------------------------------------------------------------\u001b[0m",
      "\u001b[1;31mKeyboardInterrupt\u001b[0m                         Traceback (most recent call last)",
      "\u001b[1;32mc:\\Users\\zyuan\\OneDrive\\Desktop\\SMU MODS\\Y4S1\\IS460 - ML\\Project\\data\\Draw bounding box.ipynb Cell 1\u001b[0m line \u001b[0;36m<cell line: 18>\u001b[1;34m()\u001b[0m\n\u001b[0;32m     <a href='vscode-notebook-cell:/c%3A/Users/zyuan/OneDrive/Desktop/SMU%20MODS/Y4S1/IS460%20-%20ML/Project/data/Draw%20bounding%20box.ipynb#W0sZmlsZQ%3D%3D?line=13'>14</a>\u001b[0m cv2\u001b[39m.\u001b[39mimshow(window_name, image) \n\u001b[0;32m     <a href='vscode-notebook-cell:/c%3A/Users/zyuan/OneDrive/Desktop/SMU%20MODS/Y4S1/IS460%20-%20ML/Project/data/Draw%20bounding%20box.ipynb#W0sZmlsZQ%3D%3D?line=15'>16</a>\u001b[0m \u001b[39m# waits for user to press any key \u001b[39;00m\n\u001b[0;32m     <a href='vscode-notebook-cell:/c%3A/Users/zyuan/OneDrive/Desktop/SMU%20MODS/Y4S1/IS460%20-%20ML/Project/data/Draw%20bounding%20box.ipynb#W0sZmlsZQ%3D%3D?line=16'>17</a>\u001b[0m \u001b[39m# (this is necessary to avoid Python kernel form crashing) \u001b[39;00m\n\u001b[1;32m---> <a href='vscode-notebook-cell:/c%3A/Users/zyuan/OneDrive/Desktop/SMU%20MODS/Y4S1/IS460%20-%20ML/Project/data/Draw%20bounding%20box.ipynb#W0sZmlsZQ%3D%3D?line=17'>18</a>\u001b[0m cv2\u001b[39m.\u001b[39;49mwaitKey(\u001b[39m0\u001b[39;49m) \n\u001b[0;32m     <a href='vscode-notebook-cell:/c%3A/Users/zyuan/OneDrive/Desktop/SMU%20MODS/Y4S1/IS460%20-%20ML/Project/data/Draw%20bounding%20box.ipynb#W0sZmlsZQ%3D%3D?line=19'>20</a>\u001b[0m \u001b[39m# closing all open windows \u001b[39;00m\n\u001b[0;32m     <a href='vscode-notebook-cell:/c%3A/Users/zyuan/OneDrive/Desktop/SMU%20MODS/Y4S1/IS460%20-%20ML/Project/data/Draw%20bounding%20box.ipynb#W0sZmlsZQ%3D%3D?line=20'>21</a>\u001b[0m cv2\u001b[39m.\u001b[39mdestroyAllWindows()\n",
      "\u001b[1;31mKeyboardInterrupt\u001b[0m: "
>>>>>>> 3b8f43a058b0a183967bca4d064d6ea7aeee4f57
     ]
    }
   ],
   "source": [
    "import cv2 \n",
    "\n",
    "# path(image filename)\n",
    "path = r'w frac.png'\n",
    "  \n",
    "# Reading an image in grayscale mode \n",
    "image = cv2.imread(path, 0) \n",
    "image = cv2.bitwise_not(image)\n",
    "# Window name in which image is displayed \n",
    "window_name = 'image'\n",
    "  \n",
    "# Using cv2.imshow() method \n",
    "# Displaying the image \n",
    "cv2.imshow(window_name, image) \n",
    "  \n",
    "# waits for user to press any key \n",
    "# (this is necessary to avoid Python kernel form crashing) \n",
    "cv2.waitKey(0) \n",
    "  \n",
    "# closing all open windows \n",
    "cv2.destroyAllWindows()"
   ]
  },
  {
   "cell_type": "code",
   "execution_count": 23,
   "metadata": {},
   "outputs": [],
   "source": [
    "bb_info_list = []\n",
    "\n",
    "min_contour_area = 100\n",
    "image_with_rectangles = cv2.cvtColor(image, cv2.COLOR_GRAY2BGR)\n",
    "\n",
    "import cv2 \n",
    "contours, _ = cv2.findContours(image, cv2.RETR_EXTERNAL, cv2.CHAIN_APPROX_SIMPLE)\n",
    "image_with_rectangles = image.copy()\n",
    "image_with_rectangles = cv2.cvtColor(image_with_rectangles, cv2.COLOR_GRAY2BGR)\n",
    "\n",
    "from PIL import Image \n",
    "# get image \n",
    "img = Image.open(path) \n",
    "  \n",
    "# get width and height \n",
    "width = img.width \n",
    "height = img.height\n",
    "\n",
    "for contour in contours:\n",
    "    contour_area = cv2.contourArea(contour)\n",
    "    if contour_area >= min_contour_area:\n",
    "        x, y, w, h = cv2.boundingRect(contour)\n",
    "        cv2.rectangle(image_with_rectangles, (x, y), (x + w, y + h), (0, 0, 255), 1)\n",
    "        [xmin, xmax, ymin, ymax,  img_width, img_height] = x, (x+w), y, (y+h), img.width, img.height \n",
    "        bb_info_list.append([xmin, xmax, ymin, ymax,  img_width, img_height])\n",
    "\n",
    "#To change pathname to {class}.jpg\n",
    "    cv2.imwrite('/content/hpboundrec.jpg', image_with_rectangles[ymin:ymax, xmin:xmax])\n",
    "    cv2.imshow(window_name,image_with_rectangles)\n",
    "    cv2.waitKey(0) "
   ]
  },
  {
   "cell_type": "code",
   "execution_count": 36,
   "metadata": {},
   "outputs": [
    {
     "data": {
      "text/plain": [
       "[[32, 46, 84, 123, 256, 256],\n",
       " [15, 56, 144, 198, 256, 256],\n",
       " [3, 72, 127, 136, 256, 256],\n",
       " [97, 144, 94, 146, 256, 256],\n",
       " [160, 193, 107, 144, 256, 256],\n",
       " [186, 217, 74, 105, 256, 256],\n",
       " [218, 253, 59, 147, 256, 256]]"
      ]
     },
     "execution_count": 36,
     "metadata": {},
     "output_type": "execute_result"
    }
   ],
   "source": [
    "bb_info_list.sort(key=lambda x: x[1])\n",
    "bb_info_list"
   ]
  },
  {
   "cell_type": "code",
   "execution_count": 50,
   "metadata": {},
   "outputs": [
    {
     "name": "stdout",
     "output_type": "stream",
     "text": [
      "Folder 'w frac' already exists.\n"
     ]
    }
   ],
   "source": [
    "import os\n",
    "\n",
    "#General gist of code chunk: Create a folder with the image filename, save components of image in the folder\n",
    "\n",
    "# Extract the folder name from the image file\n",
    "folder_name = os.path.splitext(path)[0]\n",
    "\n",
    "# Create the folder\n",
    "if not os.path.exists(folder_name):\n",
    "    os.mkdir(folder_name)\n",
    "    print(f\"Folder '{folder_name}' created.\")\n",
    "else:\n",
    "    print(f\"Folder '{folder_name}' already exists.\")\n",
    "\n",
    "#Cropping individual images\n",
    "i=1\n",
    "for info in bb_info_list: #info:a list of coordinates and dimensions for a bounding box\n",
    "    object = image[info[2]:info[3], info[0]:info[1]] \n",
    "    #cv2.imshow(f\"Component{i}\", object)\n",
    "    #cv2.waitKey(0)\n",
    "    image_path = os.path.join(folder_name, folder_name+f'{i}'+'.png')\n",
    "    cv2.imwrite(image_path, object)\n",
    "    i+=1"
   ]
  }
 ],
 "metadata": {
  "kernelspec": {
   "display_name": "Python 3",
   "language": "python",
   "name": "python3"
  },
  "language_info": {
   "codemirror_mode": {
    "name": "ipython",
    "version": 3
   },
   "file_extension": ".py",
   "mimetype": "text/x-python",
   "name": "python",
   "nbconvert_exporter": "python",
   "pygments_lexer": "ipython3",
   "version": "3.8.8"
  }
 },
 "nbformat": 4,
 "nbformat_minor": 2
}
