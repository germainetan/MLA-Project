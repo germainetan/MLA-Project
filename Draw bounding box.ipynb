{
 "cells": [
  {
   "cell_type": "code",
   "execution_count": 1,
   "metadata": {},
   "outputs": [],
   "source": [
    "import cv2 \n",
    "  \n",
    "# path \n",
    "path = r'w frac.png'\n",
    "  \n",
    "# Reading an image in grayscale mode \n",
    "image = cv2.imread(path, 0) \n",
    "image = cv2.bitwise_not(image)\n",
    "# Window name in which image is displayed \n",
    "window_name = 'image'\n",
    "  \n",
    "# Using cv2.imshow() method \n",
    "# Displaying the image \n",
    "cv2.imshow(window_name, image) \n",
    "  \n",
    "# waits for user to press any key \n",
    "# (this is necessary to avoid Python kernel form crashing) \n",
    "cv2.waitKey(0) \n",
    "  \n",
    "# closing all open windows \n",
    "cv2.destroyAllWindows()"
   ]
  },
  {
   "cell_type": "code",
   "execution_count": 2,
   "metadata": {},
   "outputs": [
    {
     "data": {
      "text/plain": [
       "-1"
      ]
     },
     "execution_count": 2,
     "metadata": {},
     "output_type": "execute_result"
    }
   ],
   "source": [
    "bb_info_list = []\n",
    "\n",
    "min_contour_area = 100\n",
    "image_with_rectangles = cv2.cvtColor(image, cv2.COLOR_GRAY2BGR)\n",
    "\n",
    "import cv2 \n",
    "contours, _ = cv2.findContours(image, cv2.RETR_EXTERNAL, cv2.CHAIN_APPROX_SIMPLE)\n",
    "image_with_rectangles = image.copy()\n",
    "image_with_rectangles = cv2.cvtColor(image_with_rectangles, cv2.COLOR_GRAY2BGR)\n",
    "\n",
    "\n",
    "from PIL import Image \n",
    "# get image \n",
    "img = Image.open(path) \n",
    "  \n",
    "# get width and height \n",
    "width = img.width \n",
    "height = img.height\n",
    "\n",
    "for contour in contours:\n",
    "    contour_area = cv2.contourArea(contour)\n",
    "    if contour_area >= min_contour_area:\n",
    "        x, y, w, h = cv2.boundingRect(contour)\n",
    "        cv2.rectangle(image_with_rectangles, (x, y), (x + w, y + h), (0, 0, 255), 1)\n",
    "        [xmin, xmax, ymin, ymax,  img_width, img_height] = x, (x+w), y, (y+h), img.width, img.height \n",
    "        bb_info_list.append([xmin, xmax, ymin, ymax,  img_width, img_height])\n",
    "\n",
    "#To change pathname to {class}.jpg\n",
    "cv2.imwrite('/content/hpboundrec.jpg', image_with_rectangles)\n",
    "cv2.imshow(window_name,image_with_rectangles)\n",
    "cv2.waitKey(0) "
   ]
  },
  {
   "cell_type": "code",
   "execution_count": 4,
   "metadata": {},
   "outputs": [
    {
     "data": {
      "text/plain": [
       "[[15, 56, 144, 198, 256, 256],\n",
       " [3, 72, 127, 136, 256, 256],\n",
       " [160, 193, 107, 144, 256, 256],\n",
       " [97, 144, 94, 146, 256, 256],\n",
       " [32, 46, 84, 123, 256, 256],\n",
       " [186, 217, 74, 105, 256, 256],\n",
       " [218, 253, 59, 147, 256, 256]]"
      ]
     },
     "execution_count": 4,
     "metadata": {},
     "output_type": "execute_result"
    }
   ],
   "source": [
    "bb_info_list"
   ]
  }
 ],
 "metadata": {
  "kernelspec": {
   "display_name": "Python 3",
   "language": "python",
   "name": "python3"
  },
  "language_info": {
   "codemirror_mode": {
    "name": "ipython",
    "version": 3
   },
   "file_extension": ".py",
   "mimetype": "text/x-python",
   "name": "python",
   "nbconvert_exporter": "python",
   "pygments_lexer": "ipython3",
   "version": "3.10.11"
  }
 },
 "nbformat": 4,
 "nbformat_minor": 2
}
