{
 "cells": [
  {
   "cell_type": "code",
   "execution_count": 3,
   "metadata": {},
   "outputs": [
    {
     "name": "stdout",
     "output_type": "stream",
     "text": [
      "[[[75, 180, 190, 349, 1497, 998]], [[225, 313, 247, 332, 1497, 998]], [[373, 491, 214, 350, 1497, 998]], [[533, 626, 269, 279, 1497, 998], [571, 594, 228, 255, 1497, 998], [583, 612, 286, 314, 1497, 998]], [[690, 794, 182, 376, 1497, 998]], [[851, 943, 258, 268, 1497, 998], [897, 923, 282, 309, 1497, 998], [898, 922, 222, 242, 1497, 998]], [[956, 1130, 174, 470, 1497, 998]]]\n",
      "Folder 'equation1' created under 'all_equations'.\n"
     ]
    }
   ],
   "source": [
    "import cv2 \n",
    "import os\n",
    "\n",
    "def recognise(image_path):\n",
    "    # path(image filename)\n",
    "    path = image_path\n",
    "    \n",
    "    # Reading an image in grayscale mode \n",
    "    image = cv2.imread(path, 0) \n",
    "    image = cv2.bitwise_not(image)\n",
    "    # Window name in which image is displayed \n",
    "    # window_name = 'image'\n",
    "    \n",
    "    # Using cv2.imshow() method \n",
    "    # Displaying the image \n",
    "    # cv2.imshow(window_name, image) \n",
    "    \n",
    "    # waits for user to press any key \n",
    "    # (this is necessary to avoid Python kernel form crashing) \n",
    "    # cv2.waitKey(0) \n",
    "    \n",
    "    # closing all open windows \n",
    "    # cv2.destroyAllWindows()\n",
    "    # --------------------------------------------------------------------\n",
    "    bb_info_list = []\n",
    "\n",
    "    min_contour_area = 100\n",
    "    image_with_rectangles = cv2.cvtColor(image, cv2.COLOR_GRAY2BGR)\n",
    "\n",
    "    contours, _ = cv2.findContours(image, cv2.RETR_EXTERNAL, cv2.CHAIN_APPROX_SIMPLE)\n",
    "    image_with_rectangles = image.copy()\n",
    "    image_with_rectangles = cv2.cvtColor(image_with_rectangles, cv2.COLOR_GRAY2BGR)\n",
    "\n",
    "    from PIL import Image \n",
    "    # get image \n",
    "    img = Image.open(path) \n",
    "    \n",
    "    # get width and height \n",
    "    width = img.width \n",
    "    height = img.height\n",
    "\n",
    "    for contour in contours:\n",
    "        contour_area = cv2.contourArea(contour)\n",
    "        if contour_area >= min_contour_area:\n",
    "            x, y, w, h = cv2.boundingRect(contour)\n",
    "            cv2.rectangle(image_with_rectangles, (x, y), (x + w, y + h), (0, 0, 255), 1)\n",
    "            [xmin, xmax, ymin, ymax,  img_width, img_height] = x, (x+w), y, (y+h), img.width, img.height \n",
    "            bb_info_list.append([xmin, xmax, ymin, ymax,  img_width, img_height])\n",
    "\n",
    "    # Initialize a list to store the grouped bounding boxes\n",
    "    grouped_bboxes = []\n",
    "\n",
    "    # Sort the bounding boxes by their x-minimum value\n",
    "    bb_info_list.sort(key=lambda bbox: bbox[0])\n",
    "\n",
    "    # Initialize a temporary list to store the current group\n",
    "    temp_group = [bb_info_list[0]]\n",
    "\n",
    "    # Loop through the bounding boxes and check for overlap on the x-axis\n",
    "    for i in range(1, len(bb_info_list)):\n",
    "        prev_bbox = temp_group[-1]\n",
    "        current_bbox = bb_info_list[i]\n",
    "\n",
    "        # Check for x-axis overlap by comparing xmax of the previous bbox with xmin of the current bbox\n",
    "        if prev_bbox[1] >= current_bbox[0]:\n",
    "            # There is an overlap, add the current bbox to the temporary group\n",
    "            temp_group.append(current_bbox)\n",
    "        else:\n",
    "            # No overlap, finalize the current group and start a new one\n",
    "            grouped_bboxes.append(temp_group)\n",
    "            temp_group = [current_bbox]\n",
    "\n",
    "    # After the loop, the last group may not have been added, so add it\n",
    "    grouped_bboxes.append(temp_group)\n",
    "\n",
    "    print(grouped_bboxes)\n",
    "    # Print or use the grouped bounding boxes\n",
    "\n",
    "    temp = []\n",
    "\n",
    "    for i in range(len(bb_info_list)):\n",
    "        combined = False\n",
    "        current_box = bb_info_list[i]\n",
    "\n",
    "        for j in range(len(temp)):\n",
    "            if temp[j][0] <= current_box[0] and temp[j][1] >= current_box[1]:\n",
    "                # Current box is completely within the x-range of an existing box\n",
    "                temp[j][2] = min(temp[j][2], current_box[2])\n",
    "                temp[j][3] = max(temp[j][3], current_box[3])\n",
    "                combined = True\n",
    "            elif current_box[0] <= temp[j][0] and current_box[1] >= temp[j][1]:\n",
    "                # Existing box is completely within the x-range of the current box\n",
    "                temp[j][0] = min(temp[j][0], current_box[0])\n",
    "                temp[j][1] = max(temp[j][1], current_box[1])\n",
    "                combined = True\n",
    "\n",
    "        if not combined:\n",
    "            temp.append(current_box)\n",
    "\n",
    "\n",
    "    #To change pathname to {class}.jpg\n",
    "    cv2.imwrite('/content/hpboundrec.jpg', image_with_rectangles[ymin:ymax, xmin:xmax])\n",
    "    # cv2.imshow(window_name,image_with_rectangles)\n",
    "    # cv2.waitKey(0) \n",
    "    # --------------------------------------------------------------------\n",
    "    temp.sort(key=lambda x: x[1])\n",
    "    temp\n",
    "    # --------------------------------------------------------------------\n",
    "    import os\n",
    "    import shutil\n",
    "\n",
    "    #General gist of code chunk: Create a folder with the image filename, save components of image in the folder\n",
    "\n",
    "    i = 1\n",
    "    # Folder name you want to create under 'all_equations'\n",
    "    subfolder_name = \"equation\" + str(i)\n",
    "\n",
    "    # Path to 'all_equations' folder\n",
    "    all_equations_dir = \"all_equations\"\n",
    "\n",
    "    # Create the subfolder under 'all_equations' if it doesn't exist\n",
    "    subfolder_path = os.path.join(all_equations_dir, subfolder_name)\n",
    "\n",
    "    if not os.path.exists(subfolder_path):\n",
    "        os.mkdir(subfolder_path)\n",
    "        print(f\"Folder '{subfolder_name}' created under '{all_equations_dir}'.\")\n",
    "    else:\n",
    "        print(f\"Folder '{subfolder_name}' under '{all_equations_dir}' already exists.\")\n",
    "\n",
    "    j = 1\n",
    "\n",
    "    # Cropping individual images and saving in the single subfolder\n",
    "    for info in temp:\n",
    "        object = image[info[2]:info[3], info[0]:info[1]]\n",
    "        image_path = os.path.join(subfolder_path, f'item_{j}.jpg')\n",
    "        cv2.imwrite(image_path, object)\n",
    "        j += 1\n",
    "\n",
    "    i += 1 \n",
    "    #--------------------------------------------------------------------------------------------------\n",
    "\n",
    "folder_path = 'data'  # Replace with the actual folder path\n",
    "\n",
    "# List all files in the folder\n",
    "file_list = os.listdir(folder_path)\n",
    "\n",
    "# Filter the list to include only image files (you can adjust the file extensions)\n",
    "image_extensions = ['.jpg', '.png', '.jpeg']\n",
    "image_paths = [os.path.join(folder_path, file) for file in file_list if any(file.lower().endswith(ext) for ext in image_extensions)]\n",
    "\n",
    "# Iterate through the image paths\n",
    "for image_path in image_paths:\n",
    "    recognise(image_path)\n",
    "\n",
    "\n"
   ]
  },
  {
   "cell_type": "code",
   "execution_count": 4,
   "metadata": {},
   "outputs": [
    {
     "name": "stdout",
     "output_type": "stream",
     "text": [
      "[[[75, 180, 190, 349, 1497, 998]], [[225, 313, 247, 332, 1497, 998]], [[373, 491, 214, 350, 1497, 998]], [[533, 626, 269, 279, 1497, 998], [571, 594, 228, 255, 1497, 998], [583, 612, 286, 314, 1497, 998]], [[690, 794, 182, 376, 1497, 998]], [[851, 943, 258, 268, 1497, 998], [897, 923, 282, 309, 1497, 998], [898, 922, 222, 242, 1497, 998]], [[956, 1130, 174, 470, 1497, 998]]]\n"
     ]
    },
    {
     "data": {
      "text/plain": [
       "97"
      ]
     },
     "execution_count": 4,
     "metadata": {},
     "output_type": "execute_result"
    }
   ],
   "source": []
  },
  {
   "cell_type": "code",
   "execution_count": 9,
   "metadata": {},
   "outputs": [
    {
     "data": {
      "text/plain": [
       "[[75, 180, 190, 349, 1497, 998],\n",
       " [225, 313, 247, 332, 1497, 998],\n",
       " [373, 491, 214, 350, 1497, 998],\n",
       " [533, 626, 228, 314, 1497, 998],\n",
       " [690, 794, 182, 376, 1497, 998],\n",
       " [851, 943, 222, 309, 1497, 998],\n",
       " [956, 1130, 174, 470, 1497, 998]]"
      ]
     },
     "execution_count": 9,
     "metadata": {},
     "output_type": "execute_result"
    }
   ],
   "source": []
  },
  {
   "cell_type": "code",
   "execution_count": 13,
   "metadata": {},
   "outputs": [
    {
     "name": "stdout",
     "output_type": "stream",
     "text": [
      "Folder 'equation1' under 'all_equations' already exists.\n"
     ]
    },
    {
     "ename": "",
     "evalue": "",
     "output_type": "error",
     "traceback": [
      "\u001b[1;31mThe Kernel crashed while executing code in the the current cell or a previous cell. Please review the code in the cell(s) to identify a possible cause of the failure. Click <a href='https://aka.ms/vscodeJupyterKernelCrash'>here</a> for more info. View Jupyter <a href='command:jupyter.viewOutput'>log</a> for further details."
     ]
    }
   ],
   "source": []
  },
  {
   "cell_type": "code",
   "execution_count": null,
   "metadata": {},
   "outputs": [],
   "source": []
  }
 ],
 "metadata": {
  "kernelspec": {
   "display_name": "Python 3",
   "language": "python",
   "name": "python3"
  },
  "language_info": {
   "codemirror_mode": {
    "name": "ipython",
    "version": 3
   },
   "file_extension": ".py",
   "mimetype": "text/x-python",
   "name": "python",
   "nbconvert_exporter": "python",
   "pygments_lexer": "ipython3",
   "version": "3.8.8"
  }
 },
 "nbformat": 4,
 "nbformat_minor": 2
}
