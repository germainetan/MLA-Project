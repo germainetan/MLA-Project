{
 "cells": [
  {
   "cell_type": "markdown",
   "metadata": {},
   "source": [
    "# Global Variable (Edit Before you Run on your own)"
   ]
  },
  {
   "cell_type": "code",
   "execution_count": null,
   "metadata": {},
   "outputs": [],
   "source": [
    "EPOCHS_SIZE = 30 #Adjusted for trial first\n",
    "BATCH_SIZE = 128\n",
    "MODEL_SAVE_NAME = \"digit_symbol_model_v2_with_30epochs\" #change this so that u dont overwrite saved model\n",
    "LOADED_MODEL_NAME = \"\" #Edit this one below"
   ]
  },
  {
   "cell_type": "markdown",
   "metadata": {},
   "source": [
    "## Pre requisites that you need to install before use"
   ]
  },
  {
   "cell_type": "markdown",
   "metadata": {},
   "source": [
    "#Just Run Once\n",
    "!pip install tensorflow\n",
    "!pip install scikit-learn\n",
    "!pip install keras\n",
    "!pip install keras-tuner\n",
    "!pip install matplotlib\n",
    "!pip install opencv-python\n",
    "!pip install scipy"
   ]
  },
  {
   "cell_type": "markdown",
   "metadata": {},
   "source": [
    "## 1. Imports"
   ]
  },
  {
   "cell_type": "code",
   "execution_count": null,
   "metadata": {},
   "outputs": [],
   "source": [
    "import os\n",
    "import glob\n",
    "import cv2\n",
    "import numpy as np\n",
    "import random\n",
    "import matplotlib.pyplot as plt\n",
    "from sklearn.preprocessing import LabelEncoder\n",
    "import tensorflow as tf\n",
    "from tensorflow import keras\n",
    "from tensorflow.keras import layers\n",
    "from tensorflow.keras.utils import to_categorical\n",
    "from tensorflow.keras.models import Sequential, load_model\n",
    "from sklearn.metrics import classification_report, confusion_matrix\n",
    "from sklearn.model_selection import train_test_split\n",
    "import keras_tuner as kt\n",
    "import seaborn as sns\n",
    "from keras import metrics"
   ]
  },
  {
   "cell_type": "markdown",
   "metadata": {},
   "source": [
    "## 2. Loading The Picture"
   ]
  },
  {
   "cell_type": "code",
   "execution_count": null,
   "metadata": {},
   "outputs": [],
   "source": [
    "def pre_processing_from_dir(dataset_dir, class_labels_dict, training=False):\n",
    "    # Initialize lists to store images and labels\n",
    "    images = []\n",
    "    labels = []\n",
    "    class_labels = []\n",
    "\n",
    "    # Get a list of all subdirectories (each subdirectory represents a class)\n",
    "    class_directories = os.listdir(dataset_dir)\n",
    "\n",
    "    # Iterate through each subdirectory (class directory)\n",
    "    for class_directory in class_directories:\n",
    "        class_label = class_directory  # Use the directory name as the class label\n",
    "        \n",
    "        class_labels.append(class_label)\n",
    "        class_path = os.path.join(dataset_dir, class_directory)\n",
    "\n",
    "        # Get a list of image files in the class directory\n",
    "        image_files = glob.glob(os.path.join(class_path, \"*.jpg\"))  # You may need to adjust the file extension\n",
    "\n",
    "        # print(image_files)\n",
    "\n",
    "        # Iterate through image files in the class directory\n",
    "        for image_file in image_files:\n",
    "            # Load and preprocess the image\n",
    "            image = cv2.imread(image_file, cv2.IMREAD_GRAYSCALE)\n",
    "            image = cv2.resize(image, (28, 28))\n",
    "            image = image / 255.0  # Normalize pixel values\n",
    "\n",
    "            # plt.imshow(image, cmap=plt.cm.binary)\n",
    "\n",
    "            # Append the preprocessed image and its label to the lists\n",
    "            images.append(image)\n",
    "            labels.append(class_label)\n",
    "\n",
    "    if training:\n",
    "\n",
    "        data = list(zip(images, labels))\n",
    "\n",
    "        # Shuffle the combined data\n",
    "        np.random.shuffle(data)\n",
    "\n",
    "        # shuffle the training images\n",
    "        shuffled_images, shuffled_labels = zip(*data)\n",
    "\n",
    "        images = np.array(shuffled_images)\n",
    "\n",
    "        label_encoder = LabelEncoder()\n",
    "\n",
    "        # Encode class labels using LabelEncoder\n",
    "        labels = label_encoder.fit_transform(shuffled_labels)\n",
    "\n",
    "        for i in range(len(class_labels)):\n",
    "            class_labels_dict[class_labels[i]] = i\n",
    "\n",
    "        labels = np.array(labels, dtype=\"int64\")\n",
    "\n",
    "        # comment the below 2 lines if doing label-encoding\n",
    "        # One-hot encode labels (need to do one code in order to fit into the model)\n",
    "        num_classes = len(class_labels)\n",
    "        labels = to_categorical(labels, num_classes=num_classes)\n",
    "\n",
    "        return images, labels, class_labels, class_labels_dict\n",
    "\n",
    "    else:\n",
    "       \n",
    "        # Convert lists to NumPy arrays\n",
    "        images = np.array(images)\n",
    "\n",
    "        # label-encoding done on test data should correspond to the ones in training data\n",
    "        # this is to account for times when test data is lesser than training data\n",
    "\n",
    "        for i in range(len(labels)):\n",
    "            labels[i] = class_labels_dict[labels[i]]\n",
    "\n",
    "        labels = np.array(labels, dtype=\"int64\")\n",
    "\n",
    "        # comment the below 2 lines if doing label-encoding\n",
    "        # One-hot encode labels (need to do one code in order to fit into the model)\n",
    "        num_classes = len(class_labels_dict)\n",
    "        labels = to_categorical(labels, num_classes=num_classes)\n",
    "\n",
    "        return images, labels, class_labels"
   ]
  },
  {
   "cell_type": "code",
   "execution_count": null,
   "metadata": {},
   "outputs": [],
   "source": [
    "images, labels, training_class_labels, class_labels_dict = pre_processing_from_dir(\"final_82/train_images\", {}, True)"
   ]
  },
  {
   "cell_type": "markdown",
   "metadata": {},
   "source": [
    "### 2.2 Exploratory Data Analysis"
   ]
  },
  {
   "cell_type": "markdown",
   "metadata": {},
   "source": [
    "### Data Augmentation on Training Data \n",
    "- random rotation\n",
    "- random noise"
   ]
  },
  {
   "cell_type": "code",
   "execution_count": null,
   "metadata": {},
   "outputs": [],
   "source": [
    "def data_augmentation(image):\n",
    "\n",
    "    ##############################################################\n",
    "    # Rotating images to mimic slanted handwriting\n",
    "\n",
    "    # Convert the image to a NumPy array (assuming it's in the range [0, 1])\n",
    "    image = (image * 255).astype(np.uint8)\n",
    "\n",
    "    # Calculate the image center\n",
    "    center = tuple(np.array(image.shape[1::-1]) / 2)\n",
    "\n",
    "    rotation_angle = random.uniform(-30, 30)\n",
    "\n",
    "    # Create a rotation matrix and apply the rotation\n",
    "    rotation_matrix = cv2.getRotationMatrix2D(center, rotation_angle, 1.0)\n",
    "    rotated_image = cv2.warpAffine(image, rotation_matrix, image.shape[1::-1], flags=cv2.INTER_LINEAR, borderValue=(255, 255, 255))\n",
    "\n",
    "    # Convert back to the range [0, 1]\n",
    "    rotated_image = rotated_image.astype(np.float32) / 255.0\n",
    "\n",
    "    ##############################################################\n",
    "    # Adding random noise to mimic low quality images\n",
    "\n",
    "    max_noise_level = random.uniform(0, 0.1)\n",
    "    noise = tf.random.normal(shape=tf.shape(rotated_image), stddev=max_noise_level)\n",
    "    \n",
    "    return tf.clip_by_value(rotated_image + noise, 0.0, 1.0)\n"
   ]
  },
  {
   "cell_type": "markdown",
   "metadata": {},
   "source": [
    "## 3. Defining The Model"
   ]
  },
  {
   "cell_type": "code",
   "execution_count": null,
   "metadata": {},
   "outputs": [],
   "source": [
    "from keras import callbacks\n",
    "\n",
    "#Define callback functions. Change model_name, patience, as needed.\n",
    "# keras_callbacks   = [\n",
    "#       callbacks.EarlyStopping(monitor='val_loss', patience=15, mode='min', min_delta=0.0001),\n",
    "#       callbacks.ModelCheckpoint('model_name', monitor='val_loss', save_best_only=True, mode='min')\n",
    "\n",
    "def math_model(images, labels, num_classes, model_name):\n",
    "\n",
    "    X_train, X_test, y_train, y_test = train_test_split(images, labels, test_size=0.2, random_state=42)\n",
    "\n",
    "    # perform data augmentation on X_train\n",
    "    X_train = np.array([data_augmentation(image) for image in X_train])\n",
    "\n",
    "    # Define your CNN model for multi-class classification\n",
    "\n",
    "    input_shape = (28,28,1) # decision point: what size are our images fixed at\n",
    "    layer1_size = 32 # number of filters in the convolutional layer\n",
    "    layer2_size = 64\n",
    "    layer3_size = 128\n",
    "    layer_shape = (3,3) # size of the filter\n",
    "\n",
    "    pool_shape = (2,2) # size of the pooling laye\n",
    "    fully_connected_layer_size = 128 # number of neurons in the fully connected layer\n",
    "\n",
    "\n",
    "    model = Sequential([\n",
    "        layers.Conv2D(layer1_size, layer_shape, activation='relu', input_shape=input_shape),\n",
    "        layers.MaxPooling2D(pool_shape),\n",
    "        layers.Conv2D(layer2_size, layer_shape, activation='relu'),\n",
    "        layers.MaxPooling2D(pool_shape),\n",
    "        layers.Conv2D(layer3_size, layer_shape, activation='relu'),\n",
    "        layers.Flatten(),\n",
    "        layers.Dense(fully_connected_layer_size, activation='relu'),\n",
    "        layers.Dense(num_classes, activation='softmax')\n",
    "    ])\n",
    "\n",
    "    model_metrics = ['accuracy', metrics.Recall(name = \"Recall\"), metrics.Precision(name = \"Precision\")]\n",
    "\n",
    "    # Compile the model\n",
    "    # for one-hot encoding\n",
    "    model.compile(optimizer='adam', loss='categorical_crossentropy', metrics=model_metrics)\n",
    "\n",
    "    # uncomment this if using label-encoding, & comment the one above\n",
    "    # model.compile(optimizer='adam', loss='sparse_categorical_crossentropy', metrics=model_metrics)\n",
    "\n",
    "    # Fit model. (Batch size either 32, 64, 128. 1000 epochs as we expect training to stop before that.\n",
    "    history = model.fit(X_train, y_train, batch_size=BATCH_SIZE,\n",
    "                    epochs=EPOCHS_SIZE, validation_data=(X_test, y_test))\n",
    "\n",
    "    # Save the trained model for later use\n",
    "    model.save(f\"{model_name}.keras\")\n",
    "\n",
    "    # not a must to return history here but it's to see whether model is overfitting or underfitting after training\n",
    "    # can remove history once we confirmed model is good\n",
    "    return f\"{model_name}.keras\", history, X_test, y_test"
   ]
  },
  {
   "cell_type": "markdown",
   "metadata": {},
   "source": [
    "### Define the Prediction Function"
   ]
  },
  {
   "cell_type": "code",
   "execution_count": null,
   "metadata": {},
   "outputs": [],
   "source": [
    "def math_reports(model, X_test, y_test, test_class_labels, train_class_labels):\n",
    "\n",
    "    # Load the saved model\n",
    "    loaded_model = load_model(model)\n",
    "\n",
    "    predicted_y = loaded_model.predict(X_test)\n",
    "\n",
    "    # Convert one-hot encoded labels back to integer labels\n",
    "    y_test_labels = y_test\n",
    "\n",
    "    # comment this if label-encoding was used\n",
    "    y_test_labels = np.argmax(y_test_labels, axis=1)\n",
    "\n",
    "    predicted_labels = np.argmax(predicted_y, axis=1)\n",
    "\n",
    "    confusion = confusion_matrix(y_test_labels, predicted_labels)\n",
    "\n",
    "    # print(\"Confusion Matrix\")\n",
    "    # print(confusion)\n",
    "    # print()\n",
    "\n",
    "    cf_report = classification_report(y_test_labels, predicted_labels, labels=np.unique(y_test_labels), target_names=test_class_labels)\n",
    "\n",
    "    # print(\"Classification Report\")\n",
    "    # print(cf_report)\n",
    "\n",
    "\n",
    "    # print(\"Confusion Matrix Report\")\n",
    "    # Initialize dictionaries to store correct and total counts for each class\n",
    "    correct_instances_per_class = {}\n",
    "    total_instances_per_class = {}\n",
    "    report = \"\"\n",
    "    predicted_report = \"\"\n",
    "\n",
    "    # Iterate through predictions and true labels to calculate correct and total instances\n",
    "    for i in range(predicted_labels.size):\n",
    "        predicted = train_class_labels[predicted_labels[i]]\n",
    "        test_label = train_class_labels[y_test_labels[i]]\n",
    "\n",
    "        result = \"wrong\"\n",
    "\n",
    "        if (predicted == test_label):\n",
    "            result = \"correct\"\n",
    "\n",
    "        predicted_report += f\"Predicted: {predicted}, Actual: {test_label}, Result: {result}\\n\"\n",
    "\n",
    "        if test_label not in correct_instances_per_class:\n",
    "            correct_instances_per_class[test_label] = 0\n",
    "            total_instances_per_class[test_label] = 0\n",
    "\n",
    "        total_instances_per_class[test_label] += 1\n",
    "\n",
    "        if predicted == test_label:\n",
    "            correct_instances_per_class[test_label] += 1\n",
    "\n",
    "    # print(predicted_report)\n",
    "\n",
    "    import operator\n",
    "\n",
    "    sorted_correct = dict(sorted(correct_instances_per_class.items(), key=operator.itemgetter(0)))\n",
    "\n",
    "    # Print the summary of correct/total for each class\n",
    "    for label in sorted_correct:\n",
    "        correct_count = sorted_correct[label]\n",
    "        total_count = total_instances_per_class[label]\n",
    "        report += f\"Class {label}: Correct {correct_count}/{total_count} | Wrong: {total_count - correct_count}\\n\"\n",
    "\n",
    "    # print(report)\n",
    "\n",
    "    return confusion, cf_report, report, predicted_report, predicted_labels"
   ]
  },
  {
   "cell_type": "markdown",
   "metadata": {},
   "source": [
    "## 4. Training Data"
   ]
  },
  {
   "cell_type": "code",
   "execution_count": null,
   "metadata": {},
   "outputs": [],
   "source": [
    "model, history, X_test, y_test = math_model(images, labels, len(training_class_labels), MODEL_SAVE_NAME)"
   ]
  },
  {
   "cell_type": "markdown",
   "metadata": {},
   "source": [
    "### Check for under/overfitting & deciding on epoch"
   ]
  },
  {
   "cell_type": "code",
   "execution_count": null,
   "metadata": {},
   "outputs": [],
   "source": [
    "# LOADED_MODEL_NAME = \"\" #change if you want load another model\n",
    "LOADED_MODEL_NAME = model"
   ]
  },
  {
   "cell_type": "code",
   "execution_count": null,
   "metadata": {},
   "outputs": [],
   "source": [
    "# Load the saved model\n",
    "loaded_model = load_model(LOADED_MODEL_NAME)\n",
    "\n",
    "loss, accuracy = loaded_model.evaluate(X_test, y_test)\n",
    "print(accuracy)\n",
    "print(loss)\n",
    "\n",
    "# Plot the training and validation loss\n",
    "plt.figure(figsize=(10, 5))\n",
    "plt.subplot(1, 2, 1)\n",
    "plt.plot(history.history['loss'], label='Training Loss')\n",
    "plt.plot(history.history['val_loss'], label='Validation Loss')\n",
    "plt.xlabel('Epochs')\n",
    "plt.ylabel('Loss')\n",
    "plt.legend()\n",
    "\n",
    "# Plot the training and validation accuracy\n",
    "plt.subplot(1, 2, 2)\n",
    "plt.plot(history.history['accuracy'], label='Training Accuracy')\n",
    "plt.plot(history.history['val_accuracy'], label='Validation Accuracy')\n",
    "plt.xlabel('Epochs')\n",
    "plt.ylabel('Accuracy')\n",
    "plt.legend()\n",
    "\n",
    "plt.show()"
   ]
  },
  {
   "cell_type": "code",
   "execution_count": null,
   "metadata": {},
   "outputs": [],
   "source": [
    "confusion, cf_report, report, predicted_report, predicted_labels = math_reports(model, X_test, y_test, training_class_labels, training_class_labels)"
   ]
  },
  {
   "cell_type": "code",
   "execution_count": null,
   "metadata": {},
   "outputs": [],
   "source": [
    "print(\"Confusion Matrix\")\n",
    "print(confusion)"
   ]
  },
  {
   "cell_type": "code",
   "execution_count": null,
   "metadata": {},
   "outputs": [],
   "source": [
    "print(\"Classification Report\")\n",
    "print(cf_report)"
   ]
  },
  {
   "cell_type": "code",
   "execution_count": null,
   "metadata": {},
   "outputs": [],
   "source": [
    "print(\"Confusion Matrix Report\")\n",
    "print(report)"
   ]
  },
  {
   "cell_type": "code",
   "execution_count": null,
   "metadata": {},
   "outputs": [],
   "source": [
    "print(\"Predicted vs Actual\")\n",
    "print(predicted_report)"
   ]
  },
  {
   "cell_type": "markdown",
   "metadata": {},
   "source": [
    "## 5 Test Model with Unseen Test Data"
   ]
  },
  {
   "cell_type": "code",
   "execution_count": null,
   "metadata": {},
   "outputs": [],
   "source": [
    "#load test_images\n",
    "images_test, labels_test, test_class_labels = pre_processing_from_dir(\"dataset/test\", class_labels_dict)"
   ]
  },
  {
   "cell_type": "code",
   "execution_count": null,
   "metadata": {},
   "outputs": [],
   "source": [
    "#Predict using loaded model\n",
    "confusion_test, cf_report_test, report_test, predicted_report_test, predicted_labels_test = math_reports(LOADED_MODEL_NAME, images_test, labels_test, test_class_labels, training_class_labels)"
   ]
  },
  {
   "cell_type": "code",
   "execution_count": null,
   "metadata": {},
   "outputs": [],
   "source": [
    "print(\"Classification Report Test\")\n",
    "print(cf_report_test)"
   ]
  },
  {
   "cell_type": "code",
   "execution_count": null,
   "metadata": {},
   "outputs": [],
   "source": [
    "print(\"Confusion Matrix Test\")\n",
    "print(confusion_test)"
   ]
  },
  {
   "cell_type": "code",
   "execution_count": null,
   "metadata": {},
   "outputs": [],
   "source": [
    "# to better visualize confusion matrix\n",
    "\n",
    "# Replace this with your class labels\n",
    "class_labels = [key for key, value in class_labels_dict.items() if value in np.unique(predicted_labels_test)]\n",
    "\n",
    "# Create a heatmap\n",
    "plt.figure(figsize=(10, 8))\n",
    "sns.set(font_scale=1.2)\n",
    "sns.heatmap(confusion_test, annot=True, fmt='d', cmap='Blues', xticklabels=class_labels, yticklabels=class_labels)\n",
    "\n",
    "# Set labels and title\n",
    "plt.xlabel('Predicted')\n",
    "plt.ylabel('True')\n",
    "plt.title('Confusion Matrix Heatmap')\n",
    "\n",
    "# Show the plot\n",
    "plt.show()"
   ]
  },
  {
   "cell_type": "code",
   "execution_count": null,
   "metadata": {},
   "outputs": [],
   "source": [
    "print(\"Confusion Matrix Report\")\n",
    "print(report_test)"
   ]
  },
  {
   "cell_type": "code",
   "execution_count": null,
   "metadata": {},
   "outputs": [],
   "source": [
    "print(\"Predicted vs Actual Test\")\n",
    "print(predicted_report_test)"
   ]
  }
 ],
 "metadata": {
  "kernelspec": {
   "display_name": "Python 3 (ipykernel)",
   "language": "python",
   "name": "python3"
  },
  "language_info": {
   "codemirror_mode": {
    "name": "ipython",
    "version": 3
   },
   "file_extension": ".py",
   "mimetype": "text/x-python",
   "name": "python",
   "nbconvert_exporter": "python",
   "pygments_lexer": "ipython3",
   "version": "3.8.8"
  }
 },
 "nbformat": 4,
 "nbformat_minor": 2
}
