{
 "cells": [
  {
   "cell_type": "markdown",
   "metadata": {},
   "source": [
    "# Global Variable (Edit Before you Run on your own)"
   ]
  },
  {
   "cell_type": "code",
   "execution_count": 1,
   "metadata": {},
   "outputs": [],
   "source": [
    "EPOCHS_SIZE = 30 #Adjusted for trial first\n",
    "BATCH_SIZE = 128\n",
    "MODEL_SAVE_NAME = \"digit_symbol_model_v2_with_30epochs\" #change this so that u dont overwrite saved model\n",
    "LOADED_MODEL_NAME = \"\" #Edit this one below"
   ]
  },
  {
   "cell_type": "markdown",
   "metadata": {},
   "source": [
    "## Pre requisites that you need to install before use"
   ]
  },
  {
   "cell_type": "markdown",
   "metadata": {},
   "source": [
    "#Just Run Once\n",
    "!pip install tensorflow\n",
    "!pip install scikit-learn\n",
    "!pip install keras\n",
    "!pip install keras-tuner\n",
    "!pip install matplotlib\n",
    "!pip install opencv-python\n",
    "!pip install scipy"
   ]
  },
  {
   "cell_type": "markdown",
   "metadata": {},
   "source": [
    "## 1. Imports"
   ]
  },
  {
   "cell_type": "code",
   "execution_count": 2,
   "metadata": {},
   "outputs": [
    {
     "name": "stdout",
     "output_type": "stream",
     "text": [
      "Using TensorFlow backend\n"
     ]
    }
   ],
   "source": [
    "import os\n",
    "import glob\n",
    "import cv2\n",
    "import numpy as np\n",
    "import random\n",
    "import matplotlib.pyplot as plt\n",
    "from sklearn.preprocessing import LabelEncoder\n",
    "import tensorflow as tf\n",
    "from tensorflow import keras\n",
    "from tensorflow.keras import layers\n",
    "from tensorflow.keras.utils import to_categorical\n",
    "from tensorflow.keras.models import Sequential, load_model\n",
    "from sklearn.metrics import classification_report, confusion_matrix\n",
    "from sklearn.model_selection import train_test_split\n",
    "import keras_tuner as kt\n",
    "import seaborn as sns\n",
    "from keras import metrics"
   ]
  },
  {
   "cell_type": "markdown",
   "metadata": {},
   "source": [
    "## 2. Loading The Picture"
   ]
  },
  {
   "cell_type": "code",
   "execution_count": 3,
   "metadata": {},
   "outputs": [],
   "source": [
    "def pre_processing_from_dir(dataset_dir, class_labels_dict, training=False):\n",
    "    # Initialize lists to store images and labels\n",
    "    images = []\n",
    "    labels = []\n",
    "    class_labels = []\n",
    "\n",
    "    # Get a list of all subdirectories (each subdirectory represents a class)\n",
    "    class_directories = os.listdir(dataset_dir)\n",
    "\n",
    "    # Iterate through each subdirectory (class directory)\n",
    "    for class_directory in class_directories:\n",
    "        class_label = class_directory  # Use the directory name as the class label\n",
    "        \n",
    "        class_labels.append(class_label)\n",
    "        class_path = os.path.join(dataset_dir, class_directory)\n",
    "\n",
    "        # Get a list of image files in the class directory\n",
    "        image_files = glob.glob(os.path.join(class_path, \"*.jpg\"))  # You may need to adjust the file extension\n",
    "\n",
    "        # print(image_files)\n",
    "\n",
    "        # Iterate through image files in the class directory\n",
    "        for image_file in image_files:\n",
    "            # Load and preprocess the image\n",
    "            image = cv2.imread(image_file, cv2.IMREAD_GRAYSCALE)\n",
    "            image = cv2.resize(image, (28, 28))\n",
    "            image = image / 255.0  # Normalize pixel values\n",
    "\n",
    "            # plt.imshow(image, cmap=plt.cm.binary)\n",
    "\n",
    "            # Append the preprocessed image and its label to the lists\n",
    "            images.append(image)\n",
    "            labels.append(class_label)\n",
    "\n",
    "    if training:\n",
    "\n",
    "        data = list(zip(images, labels))\n",
    "\n",
    "        # Shuffle the combined data\n",
    "        np.random.shuffle(data)\n",
    "\n",
    "        # shuffle the training images\n",
    "        shuffled_images, shuffled_labels = zip(*data)\n",
    "\n",
    "        images = np.array(shuffled_images)\n",
    "\n",
    "        label_encoder = LabelEncoder()\n",
    "\n",
    "        # Encode class labels using LabelEncoder\n",
    "        labels = label_encoder.fit_transform(shuffled_labels)\n",
    "\n",
    "        for i in range(len(class_labels)):\n",
    "            class_labels_dict[class_labels[i]] = i\n",
    "\n",
    "        labels = np.array(labels, dtype=\"int64\")\n",
    "\n",
    "        # comment the below 2 lines if doing label-encoding\n",
    "        # One-hot encode labels (need to do one code in order to fit into the model)\n",
    "        num_classes = len(class_labels)\n",
    "        labels = to_categorical(labels, num_classes=num_classes)\n",
    "\n",
    "        return images, labels, class_labels, class_labels_dict\n",
    "\n",
    "    else:\n",
    "       \n",
    "        # Convert lists to NumPy arrays\n",
    "        images = np.array(images)\n",
    "\n",
    "        # label-encoding done on test data should correspond to the ones in training data\n",
    "        # this is to account for times when test data is lesser than training data\n",
    "\n",
    "        for i in range(len(labels)):\n",
    "            labels[i] = class_labels_dict[labels[i]]\n",
    "\n",
    "        labels = np.array(labels, dtype=\"int64\")\n",
    "\n",
    "        # comment the below 2 lines if doing label-encoding\n",
    "        # One-hot encode labels (need to do one code in order to fit into the model)\n",
    "        num_classes = len(class_labels_dict)\n",
    "        labels = to_categorical(labels, num_classes=num_classes)\n",
    "\n",
    "        return images, labels, class_labels"
   ]
  },
  {
   "cell_type": "code",
   "execution_count": 5,
   "metadata": {},
   "outputs": [],
   "source": [
    "images, labels, training_class_labels, class_labels_dict = pre_processing_from_dir(\"final_82/train_images\", {}, True)"
   ]
  },
  {
   "cell_type": "markdown",
   "metadata": {},
   "source": [
    "### 2.2 Exploratory Data Analysis"
   ]
  },
  {
   "cell_type": "markdown",
   "metadata": {},
   "source": [
    "### Data Augmentation on Training Data \n",
    "- random rotation\n",
    "- random noise"
   ]
  },
  {
   "cell_type": "code",
   "execution_count": 6,
   "metadata": {},
   "outputs": [],
   "source": [
    "def data_augmentation(image):\n",
    "\n",
    "    ##############################################################\n",
    "    # Rotating images to mimic slanted handwriting\n",
    "\n",
    "    # Convert the image to a NumPy array (assuming it's in the range [0, 1])\n",
    "    image = (image * 255).astype(np.uint8)\n",
    "\n",
    "    # Calculate the image center\n",
    "    center = tuple(np.array(image.shape[1::-1]) / 2)\n",
    "\n",
    "    rotation_angle = random.uniform(-30, 30)\n",
    "\n",
    "    # Create a rotation matrix and apply the rotation\n",
    "    rotation_matrix = cv2.getRotationMatrix2D(center, rotation_angle, 1.0)\n",
    "    rotated_image = cv2.warpAffine(image, rotation_matrix, image.shape[1::-1], flags=cv2.INTER_LINEAR, borderValue=(255, 255, 255))\n",
    "\n",
    "    # Convert back to the range [0, 1]\n",
    "    rotated_image = rotated_image.astype(np.float32) / 255.0\n",
    "\n",
    "    ##############################################################\n",
    "    # Adding random noise to mimic low quality images\n",
    "\n",
    "    max_noise_level = random.uniform(0, 0.1)\n",
    "    noise = tf.random.normal(shape=tf.shape(rotated_image), stddev=max_noise_level)\n",
    "    \n",
    "    return tf.clip_by_value(rotated_image + noise, 0.0, 1.0)\n"
   ]
  },
  {
   "cell_type": "markdown",
   "metadata": {},
   "source": [
    "## 3. Defining The Model"
   ]
  },
  {
   "cell_type": "code",
   "execution_count": 7,
   "metadata": {},
   "outputs": [],
   "source": [
    "from keras import callbacks\n",
    "\n",
    "#Define callback functions. Change model_name, patience, as needed.\n",
    "# keras_callbacks   = [\n",
    "#       callbacks.EarlyStopping(monitor='val_loss', patience=15, mode='min', min_delta=0.0001),\n",
    "#       callbacks.ModelCheckpoint('model_name', monitor='val_loss', save_best_only=True, mode='min')\n",
    "\n",
    "def math_model(images, labels, num_classes, model_name):\n",
    "\n",
    "    X_train, X_test, y_train, y_test = train_test_split(images, labels, test_size=0.2, random_state=42)\n",
    "\n",
    "    # perform data augmentation on X_train\n",
    "    X_train = np.array([data_augmentation(image) for image in X_train])\n",
    "\n",
    "    # Define your CNN model for multi-class classification\n",
    "\n",
    "    input_shape = (28,28,1) # decision point: what size are our images fixed at\n",
    "    layer1_size = 32 # number of filters in the convolutional layer\n",
    "    layer2_size = 64\n",
    "    layer3_size = 128\n",
    "    layer_shape = (3,3) # size of the filter\n",
    "\n",
    "    pool_shape = (2,2) # size of the pooling laye\n",
    "    fully_connected_layer_size = 128 # number of neurons in the fully connected layer\n",
    "\n",
    "\n",
    "    model = Sequential([\n",
    "        layers.Conv2D(layer1_size, layer_shape, activation='relu', input_shape=input_shape),\n",
    "        layers.MaxPooling2D(pool_shape),\n",
    "        layers.Conv2D(layer2_size, layer_shape, activation='relu'),\n",
    "        layers.MaxPooling2D(pool_shape),\n",
    "        layers.Conv2D(layer3_size, layer_shape, activation='relu'),\n",
    "        layers.Flatten(),\n",
    "        layers.Dense(fully_connected_layer_size, activation='relu'),\n",
    "        layers.Dense(num_classes, activation='softmax')\n",
    "    ])\n",
    "\n",
    "    model_metrics = ['accuracy', metrics.Recall(name = \"Recall\"), metrics.Precision(name = \"Precision\")]\n",
    "\n",
    "    # Compile the model\n",
    "    # for one-hot encoding\n",
    "    model.compile(optimizer='adam', loss='categorical_crossentropy', metrics=model_metrics)\n",
    "\n",
    "    # uncomment this if using label-encoding, & comment the one above\n",
    "    # model.compile(optimizer='adam', loss='sparse_categorical_crossentropy', metrics=model_metrics)\n",
    "\n",
    "    # Fit model. (Batch size either 32, 64, 128. 1000 epochs as we expect training to stop before that.\n",
    "    history = model.fit(X_train, y_train, batch_size=BATCH_SIZE,\n",
    "                    epochs=EPOCHS_SIZE, validation_data=(X_test, y_test))\n",
    "\n",
    "    # Save the trained model for later use\n",
    "    model.save(f\"{model_name}.keras\")\n",
    "\n",
    "    # not a must to return history here but it's to see whether model is overfitting or underfitting after training\n",
    "    # can remove history once we confirmed model is good\n",
    "    return f\"{model_name}.keras\", history, X_test, y_test"
   ]
  },
  {
   "cell_type": "markdown",
   "metadata": {},
   "source": [
    "### Define the Prediction Function"
   ]
  },
  {
   "cell_type": "code",
   "execution_count": 8,
   "metadata": {},
   "outputs": [],
   "source": [
    "def math_reports(model, X_test, y_test, test_class_labels, train_class_labels):\n",
    "\n",
    "    # Load the saved model\n",
    "    loaded_model = load_model(model)\n",
    "\n",
    "    predicted_y = loaded_model.predict(X_test)\n",
    "\n",
    "    # Convert one-hot encoded labels back to integer labels\n",
    "    y_test_labels = y_test\n",
    "\n",
    "    # comment this if label-encoding was used\n",
    "    y_test_labels = np.argmax(y_test_labels, axis=1)\n",
    "\n",
    "    predicted_labels = np.argmax(predicted_y, axis=1)\n",
    "\n",
    "    confusion = confusion_matrix(y_test_labels, predicted_labels)\n",
    "\n",
    "    # print(\"Confusion Matrix\")\n",
    "    # print(confusion)\n",
    "    # print()\n",
    "\n",
    "    cf_report = classification_report(y_test_labels, predicted_labels, labels=np.unique(y_test_labels), target_names=test_class_labels)\n",
    "\n",
    "    # print(\"Classification Report\")\n",
    "    # print(cf_report)\n",
    "\n",
    "\n",
    "    # print(\"Confusion Matrix Report\")\n",
    "    # Initialize dictionaries to store correct and total counts for each class\n",
    "    correct_instances_per_class = {}\n",
    "    total_instances_per_class = {}\n",
    "    report = \"\"\n",
    "    predicted_report = \"\"\n",
    "\n",
    "    # Iterate through predictions and true labels to calculate correct and total instances\n",
    "    for i in range(predicted_labels.size):\n",
    "        predicted = train_class_labels[predicted_labels[i]]\n",
    "        test_label = train_class_labels[y_test_labels[i]]\n",
    "\n",
    "        result = \"wrong\"\n",
    "\n",
    "        if (predicted == test_label):\n",
    "            result = \"correct\"\n",
    "\n",
    "        predicted_report += f\"Predicted: {predicted}, Actual: {test_label}, Result: {result}\\n\"\n",
    "\n",
    "        if test_label not in correct_instances_per_class:\n",
    "            correct_instances_per_class[test_label] = 0\n",
    "            total_instances_per_class[test_label] = 0\n",
    "\n",
    "        total_instances_per_class[test_label] += 1\n",
    "\n",
    "        if predicted == test_label:\n",
    "            correct_instances_per_class[test_label] += 1\n",
    "\n",
    "    # print(predicted_report)\n",
    "\n",
    "    import operator\n",
    "\n",
    "    sorted_correct = dict(sorted(correct_instances_per_class.items(), key=operator.itemgetter(0)))\n",
    "\n",
    "    # Print the summary of correct/total for each class\n",
    "    for label in sorted_correct:\n",
    "        correct_count = sorted_correct[label]\n",
    "        total_count = total_instances_per_class[label]\n",
    "        report += f\"Class {label}: Correct {correct_count}/{total_count} | Wrong: {total_count - correct_count}\\n\"\n",
    "\n",
    "    # print(report)\n",
    "\n",
    "    return confusion, cf_report, report, predicted_report, predicted_labels"
   ]
  },
  {
   "cell_type": "markdown",
   "metadata": {},
   "source": [
    "## 4. Training Data"
   ]
  },
  {
   "cell_type": "code",
   "execution_count": 11,
   "metadata": {},
   "outputs": [
    {
     "name": "stdout",
     "output_type": "stream",
     "text": [
      "Epoch 1/30\n",
      "1121/1121 [==============================] - 52s 46ms/step - loss: 0.6755 - accuracy: 0.7920 - Recall: 0.7263 - Precision: 0.9003 - val_loss: 0.2443 - val_accuracy: 0.9259 - val_Recall: 0.9175 - val_Precision: 0.9370\n",
      "Epoch 2/30\n",
      "1121/1121 [==============================] - 51s 46ms/step - loss: 0.2469 - accuracy: 0.9242 - Recall: 0.9116 - Precision: 0.9390 - val_loss: 0.1511 - val_accuracy: 0.9558 - val_Recall: 0.9532 - val_Precision: 0.9595\n",
      "Epoch 3/30\n",
      "1121/1121 [==============================] - 50s 45ms/step - loss: 0.1815 - accuracy: 0.9442 - Recall: 0.9372 - Precision: 0.9519 - val_loss: 0.1240 - val_accuracy: 0.9631 - val_Recall: 0.9616 - val_Precision: 0.9654\n",
      "Epoch 4/30\n",
      "1121/1121 [==============================] - 50s 45ms/step - loss: 0.1481 - accuracy: 0.9536 - Recall: 0.9489 - Precision: 0.9592 - val_loss: 0.1357 - val_accuracy: 0.9569 - val_Recall: 0.9548 - val_Precision: 0.9600\n",
      "Epoch 5/30\n",
      "1121/1121 [==============================] - 50s 45ms/step - loss: 0.1291 - accuracy: 0.9592 - Recall: 0.9554 - Precision: 0.9631 - val_loss: 0.1161 - val_accuracy: 0.9650 - val_Recall: 0.9635 - val_Precision: 0.9670\n",
      "Epoch 6/30\n",
      "1121/1121 [==============================] - 50s 44ms/step - loss: 0.1129 - accuracy: 0.9642 - Recall: 0.9615 - Precision: 0.9672 - val_loss: 0.0965 - val_accuracy: 0.9710 - val_Recall: 0.9704 - val_Precision: 0.9724\n",
      "Epoch 7/30\n",
      "1121/1121 [==============================] - 49s 44ms/step - loss: 0.1028 - accuracy: 0.9667 - Recall: 0.9645 - Precision: 0.9695 - val_loss: 0.1072 - val_accuracy: 0.9644 - val_Recall: 0.9632 - val_Precision: 0.9660\n",
      "Epoch 8/30\n",
      "1121/1121 [==============================] - 49s 43ms/step - loss: 0.0933 - accuracy: 0.9702 - Recall: 0.9684 - Precision: 0.9724 - val_loss: 0.1120 - val_accuracy: 0.9657 - val_Recall: 0.9649 - val_Precision: 0.9671\n",
      "Epoch 9/30\n",
      "1121/1121 [==============================] - 48s 43ms/step - loss: 0.0854 - accuracy: 0.9720 - Recall: 0.9705 - Precision: 0.9738 - val_loss: 0.0936 - val_accuracy: 0.9720 - val_Recall: 0.9710 - val_Precision: 0.9727\n",
      "Epoch 10/30\n",
      "1121/1121 [==============================] - 49s 43ms/step - loss: 0.0797 - accuracy: 0.9741 - Recall: 0.9729 - Precision: 0.9756 - val_loss: 0.0929 - val_accuracy: 0.9722 - val_Recall: 0.9716 - val_Precision: 0.9730\n",
      "Epoch 11/30\n",
      "1121/1121 [==============================] - 48s 43ms/step - loss: 0.0736 - accuracy: 0.9757 - Recall: 0.9744 - Precision: 0.9771 - val_loss: 0.0852 - val_accuracy: 0.9741 - val_Recall: 0.9739 - val_Precision: 0.9748\n",
      "Epoch 12/30\n",
      "1121/1121 [==============================] - 49s 43ms/step - loss: 0.0686 - accuracy: 0.9774 - Recall: 0.9764 - Precision: 0.9783 - val_loss: 0.0818 - val_accuracy: 0.9754 - val_Recall: 0.9751 - val_Precision: 0.9759\n",
      "Epoch 13/30\n",
      "1121/1121 [==============================] - 49s 44ms/step - loss: 0.0644 - accuracy: 0.9782 - Recall: 0.9775 - Precision: 0.9791 - val_loss: 0.0807 - val_accuracy: 0.9778 - val_Recall: 0.9771 - val_Precision: 0.9783\n",
      "Epoch 14/30\n",
      "1121/1121 [==============================] - 49s 43ms/step - loss: 0.0600 - accuracy: 0.9800 - Recall: 0.9792 - Precision: 0.9807 - val_loss: 0.0839 - val_accuracy: 0.9750 - val_Recall: 0.9744 - val_Precision: 0.9757\n",
      "Epoch 15/30\n",
      "1121/1121 [==============================] - 49s 44ms/step - loss: 0.0572 - accuracy: 0.9809 - Recall: 0.9803 - Precision: 0.9815 - val_loss: 0.0785 - val_accuracy: 0.9774 - val_Recall: 0.9771 - val_Precision: 0.9779\n",
      "Epoch 16/30\n",
      "1121/1121 [==============================] - 48s 43ms/step - loss: 0.0538 - accuracy: 0.9818 - Recall: 0.9811 - Precision: 0.9825 - val_loss: 0.0782 - val_accuracy: 0.9776 - val_Recall: 0.9771 - val_Precision: 0.9782\n",
      "Epoch 17/30\n",
      "1121/1121 [==============================] - 48s 43ms/step - loss: 0.0516 - accuracy: 0.9821 - Recall: 0.9817 - Precision: 0.9827 - val_loss: 0.0915 - val_accuracy: 0.9747 - val_Recall: 0.9745 - val_Precision: 0.9750\n",
      "Epoch 18/30\n",
      "1121/1121 [==============================] - 48s 43ms/step - loss: 0.0485 - accuracy: 0.9834 - Recall: 0.9830 - Precision: 0.9839 - val_loss: 0.0868 - val_accuracy: 0.9758 - val_Recall: 0.9755 - val_Precision: 0.9765\n",
      "Epoch 19/30\n",
      "1121/1121 [==============================] - 49s 44ms/step - loss: 0.0475 - accuracy: 0.9833 - Recall: 0.9830 - Precision: 0.9838 - val_loss: 0.0936 - val_accuracy: 0.9746 - val_Recall: 0.9743 - val_Precision: 0.9751\n",
      "Epoch 20/30\n",
      "1121/1121 [==============================] - 50s 45ms/step - loss: 0.0452 - accuracy: 0.9844 - Recall: 0.9841 - Precision: 0.9848 - val_loss: 0.0958 - val_accuracy: 0.9745 - val_Recall: 0.9740 - val_Precision: 0.9750\n",
      "Epoch 21/30\n",
      "1121/1121 [==============================] - 51s 45ms/step - loss: 0.0443 - accuracy: 0.9846 - Recall: 0.9843 - Precision: 0.9850 - val_loss: 0.0872 - val_accuracy: 0.9764 - val_Recall: 0.9762 - val_Precision: 0.9767\n",
      "Epoch 22/30\n",
      "1121/1121 [==============================] - 48s 43ms/step - loss: 0.0417 - accuracy: 0.9853 - Recall: 0.9850 - Precision: 0.9857 - val_loss: 0.0903 - val_accuracy: 0.9751 - val_Recall: 0.9748 - val_Precision: 0.9756\n",
      "Epoch 23/30\n",
      "1121/1121 [==============================] - 50s 44ms/step - loss: 0.0416 - accuracy: 0.9855 - Recall: 0.9852 - Precision: 0.9857 - val_loss: 0.0876 - val_accuracy: 0.9765 - val_Recall: 0.9763 - val_Precision: 0.9768\n",
      "Epoch 24/30\n",
      "1121/1121 [==============================] - 50s 44ms/step - loss: 0.0396 - accuracy: 0.9862 - Recall: 0.9859 - Precision: 0.9866 - val_loss: 0.1114 - val_accuracy: 0.9714 - val_Recall: 0.9711 - val_Precision: 0.9721\n",
      "Epoch 25/30\n",
      "1121/1121 [==============================] - 50s 45ms/step - loss: 0.0384 - accuracy: 0.9868 - Recall: 0.9866 - Precision: 0.9870 - val_loss: 0.0965 - val_accuracy: 0.9759 - val_Recall: 0.9757 - val_Precision: 0.9761\n",
      "Epoch 26/30\n",
      "1121/1121 [==============================] - 49s 44ms/step - loss: 0.0381 - accuracy: 0.9864 - Recall: 0.9862 - Precision: 0.9867 - val_loss: 0.0978 - val_accuracy: 0.9751 - val_Recall: 0.9750 - val_Precision: 0.9755\n",
      "Epoch 27/30\n",
      "1121/1121 [==============================] - 49s 44ms/step - loss: 0.0356 - accuracy: 0.9873 - Recall: 0.9871 - Precision: 0.9875 - val_loss: 0.0879 - val_accuracy: 0.9798 - val_Recall: 0.9795 - val_Precision: 0.9799\n",
      "Epoch 28/30\n",
      "1121/1121 [==============================] - 49s 44ms/step - loss: 0.0366 - accuracy: 0.9867 - Recall: 0.9866 - Precision: 0.9870 - val_loss: 0.1020 - val_accuracy: 0.9771 - val_Recall: 0.9768 - val_Precision: 0.9774\n",
      "Epoch 29/30\n",
      "1121/1121 [==============================] - 49s 44ms/step - loss: 0.0348 - accuracy: 0.9876 - Recall: 0.9875 - Precision: 0.9878 - val_loss: 0.0916 - val_accuracy: 0.9789 - val_Recall: 0.9788 - val_Precision: 0.9790\n",
      "Epoch 30/30\n",
      "1121/1121 [==============================] - 49s 44ms/step - loss: 0.0321 - accuracy: 0.9885 - Recall: 0.9884 - Precision: 0.9887 - val_loss: 0.1151 - val_accuracy: 0.9748 - val_Recall: 0.9747 - val_Precision: 0.9750\n"
     ]
    }
   ],
   "source": [
    "model, history, X_test, y_test = math_model(images, labels, len(training_class_labels), MODEL_SAVE_NAME)"
   ]
  },
  {
   "cell_type": "markdown",
   "metadata": {},
   "source": [
    "### Check for under/overfitting & deciding on epoch"
   ]
  },
  {
   "cell_type": "code",
   "execution_count": null,
   "metadata": {},
   "outputs": [],
   "source": [
    "# LOADED_MODEL_NAME = \"\" #change if you want load another model\n",
    "LOADED_MODEL_NAME = model"
   ]
  },
  {
   "cell_type": "code",
   "execution_count": null,
   "metadata": {},
   "outputs": [],
   "source": [
    "# Load the saved model\n",
    "loaded_model = load_model(LOADED_MODEL_NAME)\n",
    "\n",
    "loss, accuracy = loaded_model.evaluate(X_test, y_test)\n",
    "print(accuracy)\n",
    "print(loss)\n",
    "\n",
    "# Plot the training and validation loss\n",
    "plt.figure(figsize=(10, 5))\n",
    "plt.subplot(1, 2, 1)\n",
    "plt.plot(history.history['loss'], label='Training Loss')\n",
    "plt.plot(history.history['val_loss'], label='Validation Loss')\n",
    "plt.xlabel('Epochs')\n",
    "plt.ylabel('Loss')\n",
    "plt.legend()\n",
    "\n",
    "# Plot the training and validation accuracy\n",
    "plt.subplot(1, 2, 2)\n",
    "plt.plot(history.history['accuracy'], label='Training Accuracy')\n",
    "plt.plot(history.history['val_accuracy'], label='Validation Accuracy')\n",
    "plt.xlabel('Epochs')\n",
    "plt.ylabel('Accuracy')\n",
    "plt.legend()\n",
    "\n",
    "plt.show()"
   ]
  },
  {
   "cell_type": "code",
   "execution_count": null,
   "metadata": {},
   "outputs": [],
   "source": [
    "confusion, cf_report, report, predicted_report, predicted_labels = math_reports(model, X_test, y_test, training_class_labels, training_class_labels)"
   ]
  },
  {
   "cell_type": "code",
   "execution_count": null,
   "metadata": {},
   "outputs": [],
   "source": [
    "print(\"Confusion Matrix\")\n",
    "print(confusion)"
   ]
  },
  {
   "cell_type": "code",
   "execution_count": null,
   "metadata": {},
   "outputs": [],
   "source": [
    "print(\"Classification Report\")\n",
    "print(cf_report)"
   ]
  },
  {
   "cell_type": "code",
   "execution_count": null,
   "metadata": {},
   "outputs": [],
   "source": [
    "print(\"Confusion Matrix Report\")\n",
    "print(report)"
   ]
  },
  {
   "cell_type": "code",
   "execution_count": null,
   "metadata": {},
   "outputs": [],
   "source": [
    "print(\"Predicted vs Actual\")\n",
    "print(predicted_report)"
   ]
  },
  {
   "cell_type": "markdown",
   "metadata": {},
   "source": [
    "## 5 Test Model with Unseen Test Data"
   ]
  },
  {
   "cell_type": "code",
   "execution_count": 10,
   "metadata": {},
   "outputs": [
    {
     "ename": "KeyError",
     "evalue": "'!'",
     "output_type": "error",
     "traceback": [
      "\u001b[1;31m---------------------------------------------------------------------------\u001b[0m",
      "\u001b[1;31mKeyError\u001b[0m                                  Traceback (most recent call last)",
      "Cell \u001b[1;32mIn[10], line 2\u001b[0m\n\u001b[0;32m      1\u001b[0m \u001b[38;5;66;03m#load test_images\u001b[39;00m\n\u001b[1;32m----> 2\u001b[0m images_test, labels_test, test_class_labels \u001b[38;5;241m=\u001b[39m pre_processing_from_dir(\u001b[38;5;124m\"\u001b[39m\u001b[38;5;124mdataset/test\u001b[39m\u001b[38;5;124m\"\u001b[39m, class_labels_dict)\n",
      "Cell \u001b[1;32mIn[3], line 73\u001b[0m, in \u001b[0;36mpre_processing_from_dir\u001b[1;34m(dataset_dir, class_labels_dict, training)\u001b[0m\n\u001b[0;32m     69\u001b[0m \u001b[38;5;66;03m# label-encoding done on test data should correspond to the ones in training data\u001b[39;00m\n\u001b[0;32m     70\u001b[0m \u001b[38;5;66;03m# this is to account for times when test data is lesser than training data\u001b[39;00m\n\u001b[0;32m     72\u001b[0m \u001b[38;5;28;01mfor\u001b[39;00m i \u001b[38;5;129;01min\u001b[39;00m \u001b[38;5;28mrange\u001b[39m(\u001b[38;5;28mlen\u001b[39m(labels)):\n\u001b[1;32m---> 73\u001b[0m     labels[i] \u001b[38;5;241m=\u001b[39m class_labels_dict[labels[i]]\n\u001b[0;32m     75\u001b[0m labels \u001b[38;5;241m=\u001b[39m np\u001b[38;5;241m.\u001b[39marray(labels, dtype\u001b[38;5;241m=\u001b[39m\u001b[38;5;124m\"\u001b[39m\u001b[38;5;124mint64\u001b[39m\u001b[38;5;124m\"\u001b[39m)\n\u001b[0;32m     77\u001b[0m \u001b[38;5;66;03m# comment the below 2 lines if doing label-encoding\u001b[39;00m\n\u001b[0;32m     78\u001b[0m \u001b[38;5;66;03m# One-hot encode labels (need to do one code in order to fit into the model)\u001b[39;00m\n",
      "\u001b[1;31mKeyError\u001b[0m: '!'"
     ]
    }
   ],
   "source": [
    "#load test_images\n",
    "images_test, labels_test, test_class_labels = pre_processing_from_dir(\"dataset/test\", class_labels_dict)"
   ]
  },
  {
   "cell_type": "code",
   "execution_count": null,
   "metadata": {},
   "outputs": [],
   "source": [
    "#Predict using loaded model\n",
    "confusion_test, cf_report_test, report_test, predicted_report_test, predicted_labels_test = math_reports(LOADED_MODEL_NAME, images_test, labels_test, test_class_labels, training_class_labels)"
   ]
  },
  {
   "cell_type": "code",
   "execution_count": null,
   "metadata": {},
   "outputs": [],
   "source": [
    "print(\"Classification Report Test\")\n",
    "print(cf_report_test)"
   ]
  },
  {
   "cell_type": "code",
   "execution_count": null,
   "metadata": {},
   "outputs": [],
   "source": [
    "print(\"Confusion Matrix Test\")\n",
    "print(confusion_test)"
   ]
  },
  {
   "cell_type": "code",
   "execution_count": null,
   "metadata": {},
   "outputs": [],
   "source": [
    "# to better visualize confusion matrix\n",
    "\n",
    "# Replace this with your class labels\n",
    "class_labels = [key for key, value in class_labels_dict.items() if value in np.unique(predicted_labels_test)]\n",
    "\n",
    "# Create a heatmap\n",
    "plt.figure(figsize=(10, 8))\n",
    "sns.set(font_scale=1.2)\n",
    "sns.heatmap(confusion_test, annot=True, fmt='d', cmap='Blues', xticklabels=class_labels, yticklabels=class_labels)\n",
    "\n",
    "# Set labels and title\n",
    "plt.xlabel('Predicted')\n",
    "plt.ylabel('True')\n",
    "plt.title('Confusion Matrix Heatmap')\n",
    "\n",
    "# Show the plot\n",
    "plt.show()"
   ]
  },
  {
   "cell_type": "code",
   "execution_count": null,
   "metadata": {},
   "outputs": [],
   "source": [
    "print(\"Confusion Matrix Report\")\n",
    "print(report_test)"
   ]
  },
  {
   "cell_type": "code",
   "execution_count": null,
   "metadata": {},
   "outputs": [],
   "source": [
    "print(\"Predicted vs Actual Test\")\n",
    "print(predicted_report_test)"
   ]
  },
  {
   "cell_type": "markdown",
   "metadata": {},
   "source": [
    "## running model with unseen data"
   ]
  },
  {
   "cell_type": "code",
   "execution_count": 3,
   "metadata": {},
   "outputs": [],
   "source": [
    "def pre_processing_from_test(dataset_dir):\n",
    "    # Initialize lists to store images and labels\n",
    "    images = []\n",
    "    labels = []\n",
    "    class_labels = []\n",
    "\n",
    "    # Get a list of all subdirectories (each subdirectory represents a class)\n",
    "    class_directories = os.listdir(dataset_dir)\n",
    "\n",
    "    # Iterate through each subdirectory (class directory)\n",
    "    for class_directory in class_directories:\n",
    "        class_label = class_directory  # Use the directory name as the class label\n",
    "        \n",
    "        class_labels.append(class_label)\n",
    "        class_path = os.path.join(dataset_dir, class_directory)\n",
    "\n",
    "        # Get a list of image files in the class directory\n",
    "        image_files = glob.glob(os.path.join(class_path, \"*.png\"))  # You may need to adjust the file extension\n",
    "\n",
    "        # print(image_files)\n",
    "\n",
    "        # Iterate through image files in the class directory\n",
    "        for image_file in image_files:\n",
    "            # Load and preprocess the image\n",
    "            image = cv2.imread(image_file, cv2.IMREAD_GRAYSCALE)\n",
    "            image = cv2.resize(image, (28, 28))\n",
    "            image = image / 255.0  # Normalize pixel values\n",
    "\n",
    "            # plt.imshow(image, cmap=plt.cm.binary)\n",
    "\n",
    "            # Append the preprocessed image and its label to the lists\n",
    "            images.append(image)\n",
    "            labels.append(class_label)\n",
    "\n",
    "    return np.array(images), class_labels"
   ]
  },
  {
   "cell_type": "code",
   "execution_count": 6,
   "metadata": {},
   "outputs": [],
   "source": [
    "ez_test, ez_labels = pre_processing_from_test(\"ten_eq/18_em_21\")\n"
   ]
  },
  {
   "cell_type": "code",
   "execution_count": 7,
   "metadata": {},
   "outputs": [
    {
     "name": "stdout",
     "output_type": "stream",
     "text": [
      "1/1 [==============================] - 0s 95ms/step\n",
      "predicted_labels:  [8 8 8 8]\n",
      "predicted output:  4 4 4 4 \n"
     ]
    }
   ],
   "source": [
    "training_class_labels = ['(',')','+','-','0','1','2','3','4','5','6','7','8','9','=','div','times']\n",
    "\n",
    "# Load the saved model\n",
    "model = \"digit_symbol_model_v2_with_30epochs.keras\"\n",
    "\n",
    "loaded_model = tf.keras.saving.load_model(model)\n",
    "#loaded_model = tf.keras.models.load_model(model)\n",
    "\n",
    "predicted_y = loaded_model.predict(ez_test)\n",
    "\n",
    "predicted_labels = np.argmax(predicted_y, axis=1)\n",
    "\n",
    "print(\"predicted_labels: \", predicted_labels)\n",
    "\n",
    "predicted_report = \"\"\n",
    "\n",
    "# Iterate through predictions and true labels to calculate correct and total instances\n",
    "for i in range(predicted_labels.size):\n",
    "    predicted = training_class_labels[predicted_labels[i]]\n",
    "    predicted_report += predicted + \" \"\n",
    "\n",
    "print(\"predicted output: \", predicted_report)"
   ]
  },
  {
   "cell_type": "markdown",
   "metadata": {},
   "source": [
    "# Evaluate with ground Truth\n"
   ]
  },
  {
   "cell_type": "code",
   "execution_count": 66,
   "metadata": {},
   "outputs": [
    {
     "data": {
      "text/html": [
       "<div>\n",
       "<style scoped>\n",
       "    .dataframe tbody tr th:only-of-type {\n",
       "        vertical-align: middle;\n",
       "    }\n",
       "\n",
       "    .dataframe tbody tr th {\n",
       "        vertical-align: top;\n",
       "    }\n",
       "\n",
       "    .dataframe thead th {\n",
       "        text-align: right;\n",
       "    }\n",
       "</style>\n",
       "<table border=\"1\" class=\"dataframe\">\n",
       "  <thead>\n",
       "    <tr style=\"text-align: right;\">\n",
       "      <th></th>\n",
       "      <th>path</th>\n",
       "      <th>gt</th>\n",
       "    </tr>\n",
       "  </thead>\n",
       "  <tbody>\n",
       "    <tr>\n",
       "      <th>0</th>\n",
       "      <td>20_em_41_0</td>\n",
       "      <td>9/5</td>\n",
       "    </tr>\n",
       "    <tr>\n",
       "      <th>1</th>\n",
       "      <td>23_em_56_0</td>\n",
       "      <td>9 + 2</td>\n",
       "    </tr>\n",
       "    <tr>\n",
       "      <th>2</th>\n",
       "      <td>26_em_78_0</td>\n",
       "      <td>1 6 9</td>\n",
       "    </tr>\n",
       "    <tr>\n",
       "      <th>3</th>\n",
       "      <td>31_em_187_0</td>\n",
       "      <td>5 0</td>\n",
       "    </tr>\n",
       "    <tr>\n",
       "      <th>4</th>\n",
       "      <td>RIT_2014_130_0</td>\n",
       "      <td>8 - 7</td>\n",
       "    </tr>\n",
       "  </tbody>\n",
       "</table>\n",
       "</div>"
      ],
      "text/plain": [
       "             path     gt\n",
       "0      20_em_41_0    9/5\n",
       "1      23_em_56_0  9 + 2\n",
       "2      26_em_78_0  1 6 9\n",
       "3     31_em_187_0    5 0\n",
       "4  RIT_2014_130_0  8 - 7"
      ]
     },
     "execution_count": 66,
     "metadata": {},
     "output_type": "execute_result"
    }
   ],
   "source": [
    "import pandas as pd\n",
    "\n",
    "# Read the CSV file\n",
    "filtered_data = pd.read_excel(\"ten_paths.xlsx\")\n",
    "\n",
    "filtered_data"
   ]
  },
  {
   "cell_type": "markdown",
   "metadata": {},
   "source": [
    "### Convert the dataframe into dictionary"
   ]
  },
  {
   "cell_type": "code",
   "execution_count": 31,
   "metadata": {},
   "outputs": [
    {
     "name": "stdout",
     "output_type": "stream",
     "text": [
      "{'20_em_41_0': '9/5', '23_em_56_0': '9 + 2', '26_em_78_0': '1 6 9', '31_em_187_0': '5 0', 'RIT_2014_130_0': '8 - 7'}\n"
     ]
    }
   ],
   "source": [
    "filtered_data_dictionary = filtered_data.set_index('path')['gt'].to_dict()\n",
    "print(filtered_data_dictionary)"
   ]
  },
  {
   "cell_type": "markdown",
   "metadata": {},
   "source": [
    "### From Predicted Labels collect all symbols also convert them to gt notation"
   ]
  },
  {
   "cell_type": "code",
   "execution_count": 46,
   "metadata": {},
   "outputs": [],
   "source": [
    "def combine_all_predict(predict_labels):\n",
    "    line = \"\"\n",
    "    for i in range(predicted_labels.size):\n",
    "        predicted = training_class_labels[predicted_labels[i]]\n",
    "        line += convert_into_gt(predicted) + \" \"\n",
    "        \n",
    "    return line\n",
    "\n",
    "def convert_into_gt(input_symbol):\n",
    "    symbols =['(',')','+','-','0','1','2','3','4','5','6','7','8','9','=','div','times']\n",
    "    \n",
    "    if input_symbol == 'div':\n",
    "        return \"div\"\n",
    "    if input_symbol == 'times':\n",
    "        return \"times\"\n",
    "    return input_symbol\n",
    "    ## in gt symbals div are /div and times are /times\n",
    "    \n",
    "combine = combine_all_predict(predicted_labels)"
   ]
  },
  {
   "cell_type": "markdown",
   "metadata": {},
   "source": [
    "### Compare with ground truth"
   ]
  },
  {
   "cell_type": "code",
   "execution_count": 32,
   "metadata": {},
   "outputs": [
    {
     "name": "stdout",
     "output_type": "stream",
     "text": [
      "8 - 1 \n"
     ]
    }
   ],
   "source": [
    "print(combine)\n",
    "def compare_w_ground(path,combined_predicted):\n",
    "    ground_truth = filtered_data_dictionary.get(path)\n",
    "    return string_similarity(combined_predicted,ground_truth)\n",
    "\n",
    "def string_similarity(str1, str2):\n",
    "    # Remove white spaces from both strings\n",
    "    str1 = str1.replace(\" \", \"\")\n",
    "    str2 = str2.replace(\" \", \"\")\n",
    "    \n",
    "    # Calculate the length of the longer string\n",
    "    max_length = max(len(str1), len(str2))\n",
    "    \n",
    "    # Initialize a variable to count the number of matching characters\n",
    "    matching_count = 0\n",
    "    \n",
    "    # Compare the characters of both strings\n",
    "    for char1, char2 in zip(str1, str2):\n",
    "        if char1 == char2:\n",
    "            matching_count += 1\n",
    "    \n",
    "    # Calculate the percentage of similarity\n",
    "    similarity_percentage = (matching_count / max_length) * 100\n",
    "    \n",
    "    return 100 - similarity_percentage"
   ]
  },
  {
   "cell_type": "code",
   "execution_count": 34,
   "metadata": {},
   "outputs": [
    {
     "name": "stdout",
     "output_type": "stream",
     "text": [
      "0.0\n"
     ]
    }
   ],
   "source": [
    "print(compare_w_ground('ez',combine))"
   ]
  },
  {
   "cell_type": "markdown",
   "metadata": {},
   "source": [
    "### Save Into Pandas DataFrame"
   ]
  },
  {
   "cell_type": "code",
   "execution_count": 33,
   "metadata": {},
   "outputs": [
    {
     "name": "stdout",
     "output_type": "stream",
     "text": [
      "20_em_41_0\n",
      "23_em_56_0\n",
      "26_em_78_0\n",
      "31_em_187_0\n",
      "RIT_2014_130_0\n"
     ]
    }
   ],
   "source": [
    "for i in filtered_data_dictionary:\n",
    "    print(i)"
   ]
  },
  {
   "cell_type": "code",
   "execution_count": 67,
   "metadata": {
    "scrolled": true
   },
   "outputs": [
    {
     "name": "stdout",
     "output_type": "stream",
     "text": [
      "<class 'str'>\n",
      "1/1 [==============================] - 0s 59ms/step\n",
      "predicted_labels:  [13  3 15]\n",
      "predicted output:  9 - div \n",
      "80.0\n",
      "1/1 [==============================] - 0s 62ms/step\n",
      "predicted_labels:  [13  2  6]\n",
      "predicted output:  9 + 2 \n",
      "0.0\n",
      "1/1 [==============================] - 0s 61ms/step\n",
      "predicted_labels:  [ 5 10 13]\n",
      "predicted output:  1 6 9 \n",
      "0.0\n",
      "1/1 [==============================] - 0s 64ms/step\n",
      "predicted_labels:  [9 4]\n",
      "predicted output:  5 0 \n",
      "0.0\n",
      "1/1 [==============================] - 0s 64ms/step\n",
      "predicted_labels:  [12  3  5]\n",
      "predicted output:  8 - 1 \n",
      "33.33333333333334\n",
      "['9 - div', '9 + 2', '1 6 9', '5 0', '8 - 1']\n",
      "[80.0, 0.0, 0.0, 0.0, 33.33333333333334]\n"
     ]
    },
    {
     "data": {
      "text/html": [
       "<div>\n",
       "<style scoped>\n",
       "    .dataframe tbody tr th:only-of-type {\n",
       "        vertical-align: middle;\n",
       "    }\n",
       "\n",
       "    .dataframe tbody tr th {\n",
       "        vertical-align: top;\n",
       "    }\n",
       "\n",
       "    .dataframe thead th {\n",
       "        text-align: right;\n",
       "    }\n",
       "</style>\n",
       "<table border=\"1\" class=\"dataframe\">\n",
       "  <thead>\n",
       "    <tr style=\"text-align: right;\">\n",
       "      <th></th>\n",
       "      <th>path</th>\n",
       "      <th>gt</th>\n",
       "      <th>WER/%</th>\n",
       "      <th>predicted output</th>\n",
       "    </tr>\n",
       "  </thead>\n",
       "  <tbody>\n",
       "    <tr>\n",
       "      <th>0</th>\n",
       "      <td>20_em_41_0</td>\n",
       "      <td>9/5</td>\n",
       "      <td>80.000000</td>\n",
       "      <td>9 - div</td>\n",
       "    </tr>\n",
       "    <tr>\n",
       "      <th>1</th>\n",
       "      <td>23_em_56_0</td>\n",
       "      <td>9 + 2</td>\n",
       "      <td>0.000000</td>\n",
       "      <td>9 + 2</td>\n",
       "    </tr>\n",
       "    <tr>\n",
       "      <th>2</th>\n",
       "      <td>26_em_78_0</td>\n",
       "      <td>1 6 9</td>\n",
       "      <td>0.000000</td>\n",
       "      <td>1 6 9</td>\n",
       "    </tr>\n",
       "    <tr>\n",
       "      <th>3</th>\n",
       "      <td>31_em_187_0</td>\n",
       "      <td>5 0</td>\n",
       "      <td>0.000000</td>\n",
       "      <td>5 0</td>\n",
       "    </tr>\n",
       "    <tr>\n",
       "      <th>4</th>\n",
       "      <td>RIT_2014_130_0</td>\n",
       "      <td>8 - 7</td>\n",
       "      <td>33.333333</td>\n",
       "      <td>8 - 1</td>\n",
       "    </tr>\n",
       "  </tbody>\n",
       "</table>\n",
       "</div>"
      ],
      "text/plain": [
       "             path     gt      WER/% predicted output\n",
       "0      20_em_41_0    9/5  80.000000          9 - div\n",
       "1      23_em_56_0  9 + 2   0.000000            9 + 2\n",
       "2      26_em_78_0  1 6 9   0.000000            1 6 9\n",
       "3     31_em_187_0    5 0   0.000000              5 0\n",
       "4  RIT_2014_130_0  8 - 7  33.333333            8 - 1"
      ]
     },
     "execution_count": 67,
     "metadata": {},
     "output_type": "execute_result"
    }
   ],
   "source": [
    "predicted_1 = []\n",
    "print(type(predicted))\n",
    "percentage = []\n",
    "\n",
    "for i in filtered_data_dictionary:\n",
    "    ez_test, ez_labels = pre_processing_from_test(\"ten_eq/\"+i)\n",
    "\n",
    "\n",
    "    training_class_labels = ['(',')','+','-','0','1','2','3','4','5','6','7','8','9','=','div','times']\n",
    "\n",
    "    # Load the saved model\n",
    "    model = \"digit_symbol_model_v2_with_30epochs.keras\"\n",
    "\n",
    "    loaded_model = tf.keras.saving.load_model(model)\n",
    "    #loaded_model = tf.keras.models.load_model(model)\n",
    "\n",
    "    predicted_y = loaded_model.predict(ez_test)\n",
    "\n",
    "    predicted_labels = np.argmax(predicted_y, axis=1)\n",
    "\n",
    "    print(\"predicted_labels: \", predicted_labels)\n",
    "\n",
    "    predicted_report = \"\"\n",
    "\n",
    "    # Iterate through predictions and true labels to calculate correct and total instances\n",
    "    for j in range(predicted_labels.size):\n",
    "        predicted = training_class_labels[predicted_labels[j]]\n",
    "        predicted_report += predicted + \" \"\n",
    "        \n",
    "\n",
    "    print(\"predicted output: \", predicted_report)\n",
    "    \n",
    "    ## compare with ground truth\n",
    "    combine = combine_all_predict(predicted_labels)\n",
    "    \n",
    "    predicted_1.append(combine[:-1])\n",
    "    print(compare_w_ground(i,combine))\n",
    "    percentage.append(compare_w_ground(i,combine))\n",
    "    \n",
    "print(predicted_1)\n",
    "print(percentage)\n",
    "filtered_data.insert(2,\"predicted output\",predicted_1)  \n",
    "filtered_data.insert(2,\"WER/%\",percentage)  \n",
    "evaluated = filtered_data \n",
    "evaluated"
   ]
  },
  {
   "cell_type": "markdown",
   "metadata": {},
   "source": [
    "# 9 data evaluated with ground truth"
   ]
  },
  {
   "cell_type": "code",
   "execution_count": 54,
   "metadata": {},
   "outputs": [],
   "source": [
    "filtered_data.to_csv(\"evaluation.csv\")"
   ]
  },
  {
   "cell_type": "code",
   "execution_count": 59,
   "metadata": {},
   "outputs": [
    {
     "data": {
      "text/html": [
       "<div>\n",
       "<style scoped>\n",
       "    .dataframe tbody tr th:only-of-type {\n",
       "        vertical-align: middle;\n",
       "    }\n",
       "\n",
       "    .dataframe tbody tr th {\n",
       "        vertical-align: top;\n",
       "    }\n",
       "\n",
       "    .dataframe thead th {\n",
       "        text-align: right;\n",
       "    }\n",
       "</style>\n",
       "<table border=\"1\" class=\"dataframe\">\n",
       "  <thead>\n",
       "    <tr style=\"text-align: right;\">\n",
       "      <th></th>\n",
       "      <th>path</th>\n",
       "      <th>gt</th>\n",
       "      <th>WER/% match</th>\n",
       "      <th>predicted output</th>\n",
       "    </tr>\n",
       "  </thead>\n",
       "  <tbody>\n",
       "    <tr>\n",
       "      <th>0</th>\n",
       "      <td>20_em_41_0</td>\n",
       "      <td>9/5</td>\n",
       "      <td>83.333333</td>\n",
       "      <td>9 - /div</td>\n",
       "    </tr>\n",
       "    <tr>\n",
       "      <th>1</th>\n",
       "      <td>23_em_56_0</td>\n",
       "      <td>9 + 2</td>\n",
       "      <td>0.000000</td>\n",
       "      <td>9 + 2</td>\n",
       "    </tr>\n",
       "    <tr>\n",
       "      <th>2</th>\n",
       "      <td>26_em_78_0</td>\n",
       "      <td>1 6 9</td>\n",
       "      <td>0.000000</td>\n",
       "      <td>1 6 9</td>\n",
       "    </tr>\n",
       "    <tr>\n",
       "      <th>3</th>\n",
       "      <td>31_em_187_0</td>\n",
       "      <td>5 0</td>\n",
       "      <td>0.000000</td>\n",
       "      <td>5 0</td>\n",
       "    </tr>\n",
       "    <tr>\n",
       "      <th>4</th>\n",
       "      <td>RIT_2014_130_0</td>\n",
       "      <td>8 - 7</td>\n",
       "      <td>33.333333</td>\n",
       "      <td>8 - 1</td>\n",
       "    </tr>\n",
       "  </tbody>\n",
       "</table>\n",
       "</div>"
      ],
      "text/plain": [
       "             path     gt  WER/% match predicted output\n",
       "0      20_em_41_0    9/5    83.333333        9 - /div \n",
       "1      23_em_56_0  9 + 2     0.000000           9 + 2 \n",
       "2      26_em_78_0  1 6 9     0.000000           1 6 9 \n",
       "3     31_em_187_0    5 0     0.000000             5 0 \n",
       "4  RIT_2014_130_0  8 - 7    33.333333           8 - 1 "
      ]
     },
     "execution_count": 59,
     "metadata": {},
     "output_type": "execute_result"
    }
   ],
   "source": [
    "evaluation"
   ]
  },
  {
   "cell_type": "code",
   "execution_count": 39,
   "metadata": {},
   "outputs": [
    {
     "name": "stdout",
     "output_type": "stream",
     "text": [
      "Word Error Rate: 60.00%\n"
     ]
    }
   ],
   "source": [
    "def word_error_rate(reference, hypothesis):\n",
    "    # Tokenize the reference and hypothesis into words\n",
    "    ref_words = reference.split()\n",
    "    hyp_words = hypothesis.split()\n",
    "    \n",
    "    # Initialize a 2D matrix to store the edit distances\n",
    "    dp = [[0] * (len(hyp_words) + 1) for _ in range(len(ref_words) + 1)]\n",
    "\n",
    "    # Initialize the first row and first column\n",
    "    for i in range(len(ref_words) + 1):\n",
    "        dp[i][0] = i\n",
    "    for j in range(len(hyp_words) + 1):\n",
    "        dp[0][j] = j\n",
    "\n",
    "    # Fill in the matrix using dynamic programming\n",
    "    for i in range(1, len(ref_words) + 1):\n",
    "        for j in range(1, len(hyp_words) + 1):\n",
    "            cost = 0 if ref_words[i - 1] == hyp_words[j - 1] else 1\n",
    "            dp[i][j] = min(dp[i - 1][j] + 1, dp[i][j - 1] + 1, dp[i - 1][j - 1] + cost)\n",
    "\n",
    "    # The last cell of the matrix contains the minimum edit distance\n",
    "    wer = dp[len(ref_words)][len(hyp_words)]\n",
    "\n",
    "    # Calculate the WER by dividing by the number of words in the reference\n",
    "    wer /= len(ref_words)\n",
    "    #print(len(ref_words))\n",
    "    return wer\n",
    "\n",
    "# Example usage:\n",
    "reference_text = \"this is a sample reference\"\n",
    "hypothesis_text = \"this is an example hypothesis\"\n",
    "wer = word_error_rate(reference_text, hypothesis_text)\n",
    "print(f\"Word Error Rate: {wer:.2%}\")"
   ]
  },
  {
   "cell_type": "code",
   "execution_count": 77,
   "metadata": {},
   "outputs": [
    {
     "ename": "AttributeError",
     "evalue": "'list' object has no attribute 'split'",
     "output_type": "error",
     "traceback": [
      "\u001b[1;31m---------------------------------------------------------------------------\u001b[0m",
      "\u001b[1;31mAttributeError\u001b[0m                            Traceback (most recent call last)",
      "Cell \u001b[1;32mIn[77], line 7\u001b[0m\n\u001b[0;32m      5\u001b[0m pred \u001b[38;5;241m=\u001b[39m var[i]\u001b[38;5;241m.\u001b[39msplit(\u001b[38;5;124m\"\u001b[39m\u001b[38;5;124m \u001b[39m\u001b[38;5;124m\"\u001b[39m)\n\u001b[0;32m      6\u001b[0m truth \u001b[38;5;241m=\u001b[39m filtered_data[\u001b[38;5;124m'\u001b[39m\u001b[38;5;124mgt\u001b[39m\u001b[38;5;124m'\u001b[39m]\u001b[38;5;241m.\u001b[39mtolist()[i]\u001b[38;5;241m.\u001b[39msplit(\u001b[38;5;124m\"\u001b[39m\u001b[38;5;124m \u001b[39m\u001b[38;5;124m\"\u001b[39m)\n\u001b[1;32m----> 7\u001b[0m wer \u001b[38;5;241m=\u001b[39m word_error_rate(truth, pred)\n\u001b[0;32m      8\u001b[0m \u001b[38;5;28;01mif\u001b[39;00m wer \u001b[38;5;241m==\u001b[39m \u001b[38;5;241m0\u001b[39m:\n\u001b[0;32m      9\u001b[0m     wer_list\u001b[38;5;241m.\u001b[39mappend(\u001b[38;5;241m0\u001b[39m)\n",
      "Cell \u001b[1;32mIn[39], line 3\u001b[0m, in \u001b[0;36mword_error_rate\u001b[1;34m(reference, hypothesis)\u001b[0m\n\u001b[0;32m      1\u001b[0m \u001b[38;5;28;01mdef\u001b[39;00m \u001b[38;5;21mword_error_rate\u001b[39m(reference, hypothesis):\n\u001b[0;32m      2\u001b[0m     \u001b[38;5;66;03m# Tokenize the reference and hypothesis into words\u001b[39;00m\n\u001b[1;32m----> 3\u001b[0m     ref_words \u001b[38;5;241m=\u001b[39m reference\u001b[38;5;241m.\u001b[39msplit()\n\u001b[0;32m      4\u001b[0m     hyp_words \u001b[38;5;241m=\u001b[39m hypothesis\u001b[38;5;241m.\u001b[39msplit()\n\u001b[0;32m      6\u001b[0m     \u001b[38;5;66;03m# Initialize a 2D matrix to store the edit distances\u001b[39;00m\n",
      "\u001b[1;31mAttributeError\u001b[0m: 'list' object has no attribute 'split'"
     ]
    }
   ],
   "source": [
    "wer_list = []\n",
    "var = evaluated['predicted output'].tolist()\n",
    "for i in range(5):\n",
    "    \n",
    "    pred = var[i].split(\" \")\n",
    "    truth = filtered_data['gt'].tolist()[i].split(\" \")\n",
    "    wer = word_error_rate(truth, pred)\n",
    "    if wer == 0:\n",
    "        wer_list.append(0)\n",
    "    else:\n",
    "        wer_list.append(round(wer,3))"
   ]
  },
  {
   "cell_type": "code",
   "execution_count": 69,
   "metadata": {},
   "outputs": [
    {
     "data": {
      "text/plain": [
       "[]"
      ]
     },
     "execution_count": 69,
     "metadata": {},
     "output_type": "execute_result"
    }
   ],
   "source": [
    "wer_list"
   ]
  },
  {
   "cell_type": "code",
   "execution_count": 72,
   "metadata": {},
   "outputs": [
    {
     "data": {
      "text/html": [
       "<div>\n",
       "<style scoped>\n",
       "    .dataframe tbody tr th:only-of-type {\n",
       "        vertical-align: middle;\n",
       "    }\n",
       "\n",
       "    .dataframe tbody tr th {\n",
       "        vertical-align: top;\n",
       "    }\n",
       "\n",
       "    .dataframe thead th {\n",
       "        text-align: right;\n",
       "    }\n",
       "</style>\n",
       "<table border=\"1\" class=\"dataframe\">\n",
       "  <thead>\n",
       "    <tr style=\"text-align: right;\">\n",
       "      <th></th>\n",
       "      <th>path</th>\n",
       "      <th>gt</th>\n",
       "      <th>WER/%</th>\n",
       "      <th>predicted output</th>\n",
       "    </tr>\n",
       "  </thead>\n",
       "  <tbody>\n",
       "    <tr>\n",
       "      <th>0</th>\n",
       "      <td>20_em_41_0</td>\n",
       "      <td>9/5</td>\n",
       "      <td>80.000000</td>\n",
       "      <td>9 - div</td>\n",
       "    </tr>\n",
       "    <tr>\n",
       "      <th>1</th>\n",
       "      <td>23_em_56_0</td>\n",
       "      <td>9 + 2</td>\n",
       "      <td>0.000000</td>\n",
       "      <td>9 + 2</td>\n",
       "    </tr>\n",
       "    <tr>\n",
       "      <th>2</th>\n",
       "      <td>26_em_78_0</td>\n",
       "      <td>1 6 9</td>\n",
       "      <td>0.000000</td>\n",
       "      <td>1 6 9</td>\n",
       "    </tr>\n",
       "    <tr>\n",
       "      <th>3</th>\n",
       "      <td>31_em_187_0</td>\n",
       "      <td>5 0</td>\n",
       "      <td>0.000000</td>\n",
       "      <td>5 0</td>\n",
       "    </tr>\n",
       "    <tr>\n",
       "      <th>4</th>\n",
       "      <td>RIT_2014_130_0</td>\n",
       "      <td>8 - 7</td>\n",
       "      <td>33.333333</td>\n",
       "      <td>8 - 1</td>\n",
       "    </tr>\n",
       "  </tbody>\n",
       "</table>\n",
       "</div>"
      ],
      "text/plain": [
       "             path     gt      WER/% predicted output\n",
       "0      20_em_41_0    9/5  80.000000          9 - div\n",
       "1      23_em_56_0  9 + 2   0.000000            9 + 2\n",
       "2      26_em_78_0  1 6 9   0.000000            1 6 9\n",
       "3     31_em_187_0    5 0   0.000000              5 0\n",
       "4  RIT_2014_130_0  8 - 7  33.333333            8 - 1"
      ]
     },
     "execution_count": 72,
     "metadata": {},
     "output_type": "execute_result"
    }
   ],
   "source": [
    "evaluated"
   ]
  },
  {
   "cell_type": "code",
   "execution_count": 78,
   "metadata": {},
   "outputs": [
    {
     "data": {
      "text/plain": [
       "['9 - div', '9 + 2', '1 6 9', '5 0', '8 - 1']"
      ]
     },
     "execution_count": 78,
     "metadata": {},
     "output_type": "execute_result"
    }
   ],
   "source": [
    "evaluated['predicted output'].tolist()"
   ]
  }
 ],
 "metadata": {
  "kernelspec": {
   "display_name": "Python 3 (ipykernel)",
   "language": "python",
   "name": "python3"
  },
  "language_info": {
   "codemirror_mode": {
    "name": "ipython",
    "version": 3
   },
   "file_extension": ".py",
   "mimetype": "text/x-python",
   "name": "python",
   "nbconvert_exporter": "python",
   "pygments_lexer": "ipython3",
   "version": "3.11.5"
  }
 },
 "nbformat": 4,
 "nbformat_minor": 2
}
